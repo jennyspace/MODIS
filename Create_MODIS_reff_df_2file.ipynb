{
 "metadata": {
  "name": "",
  "signature": "sha256:10b829cb573764331233192276755c923feabd51ed88b0b01132cae8443fa1b5"
 },
 "nbformat": 3,
 "nbformat_minor": 0,
 "worksheets": [
  {
   "cells": [
    {
     "cell_type": "code",
     "collapsed": false,
     "input": [
      "### 29/08/2016 - Read reff from MODIS data and save in a file ---------------------------------"
     ],
     "language": "python",
     "metadata": {},
     "outputs": []
    },
    {
     "cell_type": "code",
     "collapsed": false,
     "input": [
      "from numpy import *\n",
      "from pyhdf.SD import SD\n",
      "from scipy import array\n",
      "import numpy as np\n",
      "import pandas as pd\n",
      "\n",
      "### file location should be correct otherwise will get SD error msg\n",
      "'''\n",
      "filename = \"./20130614/Reff/MYD06_L2.A2013165.0420.006.2014266205611.hdf\"  \n",
      "filename2 = \"./20130614/Reff/MYD03.A2013165.0420.006.2013165155508.hdf\"\n",
      "FDate=\"20130614_133658\"\n",
      "'''\n",
      "filename = \"./20130628/Reff/MYD06_L2.A2013179.0430.006.2014267001301.hdf\"  \n",
      "filename2 = \"./20130628/Reff/MYD03.A2013179.0430.006.2013179161739.hdf\"\n",
      "FDate=\"20130628_130139\"\n",
      "'''\n",
      "filename = \"./20130707/Reff/MYD06_L2.A2013188.0425.006.2014267025147.hdf\"  \n",
      "filename2 = \"./20130707/Reff/MYD03.A2013188.0425.006.2013188151355.hdf\"\n",
      "FDate=\"20130707_125944\"\n",
      "\n",
      "filename = \"./20150830/Reff/MYD06_L2.A2013188.0425.006.2014267025147.hdf\"  \n",
      "filename2 = \"./20150830/Reff/MYD03.A2015242.0425.006.2015243130645.hdf\"\n",
      "FDate=\"20150830_130524\"\n",
      "'''\n",
      "### read a file\n",
      "f=SD(filename)\n",
      "f2=SD(filename2)\n",
      "\n",
      "data=array(f.select('Cloud_Effective_Radius').get()) * 0.009999 ### this works, 20130723\n",
      "\n",
      "lat1 = array(f2.select('Latitude').get())\n",
      "long1 = array(f2.select('Longitude').get())\n",
      "\n",
      "### Create 3 colums of lat1, long1, and reff having 1354 X 2030 rows ----------------------------\n",
      "### Because the elements of lat1 is an array (1 X 1354), to be data for dataframe, it should be converted to a list\n",
      "\n",
      "lst_lat1 = list(lat1[0])\n",
      "lst_long1 = list(long1[0])\n",
      "lst_reff = list(data[0])\n",
      "df = pd.DataFrame({'FDate': FDate,'lat1': lst_lat1, 'long1': lst_long1, 'reff': lst_reff}, index=range(len(lst_lat1))) \n",
      "\n",
      "lst_lat2 = list(lat1[1])\n",
      "lst_long2 = list(long1[1])\n",
      "lst_reff2 = list(data[1])\n",
      "df2 = pd.DataFrame({'FDate': FDate,'lat1': lst_lat2, 'long1': lst_long2, 'reff': lst_reff2}, index=range(len(lst_lat1)) ) \n",
      "\n",
      "frames = [ df, df2]\n",
      "frames = pd.concat(frames)\n",
      "\n",
      "for j in range(2030-2):\n",
      "    lst_lat1 = list(lat1[j+2])\n",
      "    lst_long1 = list(long1[j+2])\n",
      "    lst_reff = list(data[j+2])\n",
      "    df2 = pd.DataFrame({'FDate': FDate, 'lat1': lst_lat1, 'long1': lst_long1, 'reff': lst_reff}, index=range(len(lst_lat1)) ) \n",
      "    frames = [ frames, df2]\n",
      "    frames = pd.concat(frames)\n",
      "\n",
      "### Save the frames to a file and read \n",
      "frames.to_csv('MODIS_reff_' + FDate + '.csv', mode='w')\n"
     ],
     "language": "python",
     "metadata": {},
     "outputs": [],
     "prompt_number": 14
    },
    {
     "cell_type": "code",
     "collapsed": false,
     "input": [
      "### 29th/Aug/2016 Average reff aligned with AC obs -----------------------------------------------------\n",
      "### How to: \n",
      "### 1) Get data with lat/long where AC flew (for 20 ms) \n",
      "### 2) with those lat/long, get reff data to avg using cell index \n",
      "### 3) How to get cell index: Get lat/long in MOD06 X 5 \n",
      "#lat11 = lat1.where < -43.9389 & lat1.where > -44.5877"
     ],
     "language": "python",
     "metadata": {},
     "outputs": [],
     "prompt_number": 2
    },
    {
     "cell_type": "code",
     "collapsed": false,
     "input": [],
     "language": "python",
     "metadata": {},
     "outputs": []
    },
    {
     "cell_type": "code",
     "collapsed": false,
     "input": [
      "### Calculate reff of MODIS\n",
      "### Get coordinates from the Coordinates file\n",
      "df_coordinates = pd.read_csv('Coordinates.csv')\n",
      "query1 = 'FDate == '+ FDate\n",
      "df_coordinates = df_coordinates.query(query1)\n",
      "\n",
      "### Read(Get) MODIS data\n",
      "df_MODIS = pd.read_csv('MODIS_reff_'+ FDate + '.csv')\n",
      "\n",
      "lat_max = str(float(df_coordinates['lat_max'])) ### just str doesn't work because df[' ' ] = special type\n",
      "lat_min = str(float(df_coordinates['lat_min']))\n",
      "long_min = str(float(df_coordinates['long_min']))\n",
      "long_max = str(float(df_coordinates['long_max']))\n",
      "\n",
      "query2 = 'lat1 <' + lat_max + ' & lat1 >' + lat_min + '& long1 >'+ long_min+ '& long1 <' + long_max\n",
      "df_MODIS2 = df_MODIS.query(query2)\n",
      "\n",
      "### Create a file having reff\n",
      "df_MODIS2.to_csv('MODIS_reff.csv', mode='w')"
     ],
     "language": "python",
     "metadata": {},
     "outputs": [],
     "prompt_number": 7
    },
    {
     "cell_type": "code",
     "collapsed": false,
     "input": [
      "df_coordinates['lat_max']"
     ],
     "language": "python",
     "metadata": {},
     "outputs": [
      {
       "metadata": {},
       "output_type": "pyout",
       "prompt_number": 12,
       "text": [
        "1   -42.3\n",
        "Name: lat_max, dtype: float64"
       ]
      }
     ],
     "prompt_number": 12
    },
    {
     "cell_type": "code",
     "collapsed": false,
     "input": [
      "import pandas as pd\n",
      "df_MODIS_reff = pd.read_csv('MODIS_reff.csv')"
     ],
     "language": "python",
     "metadata": {},
     "outputs": [],
     "prompt_number": 8
    },
    {
     "cell_type": "code",
     "collapsed": false,
     "input": [
      "len(df_MODIS_reff.query('reff < 0')) ### Question) what does this mean?"
     ],
     "language": "python",
     "metadata": {},
     "outputs": [
      {
       "metadata": {},
       "output_type": "pyout",
       "prompt_number": 9,
       "text": [
        "61074"
       ]
      }
     ],
     "prompt_number": 9
    },
    {
     "cell_type": "code",
     "collapsed": false,
     "input": [
      "print len(df_MODIS_reff.query('reff < 0'))\n",
      "print len(df_MODIS_reff)\n",
      "print np.mean(df_MODIS_reff[df_MODIS_reff['reff'] > 0]) ### 0.26 when extended lat, long by 0.1 degree\n",
      "print len( df_MODIS_reff.query('reff > 0') )"
     ],
     "language": "python",
     "metadata": {},
     "outputs": [
      {
       "output_type": "stream",
       "stream": "stdout",
       "text": [
        "61074\n",
        "71404\n",
        "Unnamed: 0      1407649.630010\n",
        "Unnamed: 0.1        586.592836\n",
        "lat1                -43.545993\n",
        "long1               146.016807\n",
        "reff                 20.965430\n",
        "dtype: float64"
       ]
      },
      {
       "output_type": "stream",
       "stream": "stdout",
       "text": [
        "\n",
        "10330\n"
       ]
      }
     ],
     "prompt_number": 10
    },
    {
     "cell_type": "code",
     "collapsed": false,
     "input": [],
     "language": "python",
     "metadata": {},
     "outputs": []
    },
    {
     "cell_type": "code",
     "collapsed": false,
     "input": [
      "### Exe for concatenate -----------------------------------------\n",
      "### Refer http://pandas.pydata.org/pandas-docs/stable/merging.html -------------------\n",
      "lst_lat1 = list(lat1[0])\n",
      "lst_long1 = list(long1[0])\n",
      "lst_reff = list(data[0])\n",
      "df = pd.DataFrame({'lat1': lst_lat1, 'long1': lst_long1, 'reff': lst_reff}, index=range(len(lst_lat1)) ) \n",
      "\n",
      "lst_lat2 = list(lat1[1])\n",
      "lst_long2 = list(long1[1])\n",
      "lst_reff2 = list(data[1])\n",
      "\n",
      "df2 = pd.DataFrame({'lat1': lst_lat2, 'long1': lst_long2, 'reff': lst_reff2}, index=range(len(lst_lat1)) ) \n",
      "\n",
      "df2 = [ df, df2]\n",
      "df2 = pd.concat(df2)\n",
      "print len(df2)\n",
      "print 1354*2"
     ],
     "language": "python",
     "metadata": {},
     "outputs": [
      {
       "output_type": "stream",
       "stream": "stdout",
       "text": [
        "2708\n",
        "2708\n"
       ]
      }
     ],
     "prompt_number": 144
    },
    {
     "cell_type": "code",
     "collapsed": false,
     "input": [
      "### Practice ------------------------------\n",
      "#print len(lst_lat1 )     # 2030 \n",
      "#print np.shape(lst_lat1) # (2030, 1354)\n",
      "#print type(lst_lat1)     # <type 'list'>\n",
      "# len(df_lat1['lat1'].iloc[0]) # 1354\n",
      "\n",
      "#lst_idx1 = lst_lat1[lst_lat1 < -43.9389].index()"
     ],
     "language": "python",
     "metadata": {},
     "outputs": [],
     "prompt_number": 5
    },
    {
     "cell_type": "code",
     "collapsed": false,
     "input": [
      "lat1[0:]"
     ],
     "language": "python",
     "metadata": {},
     "outputs": [
      {
       "metadata": {},
       "output_type": "pyout",
       "prompt_number": 6,
       "text": [
        "array([[-49.1692543 , -49.18866348, -49.20788574, ..., -54.04235458,\n",
        "        -54.04204941, -54.04169464],\n",
        "       [-49.15268707, -49.17214203, -49.19140625, ..., -54.02392578,\n",
        "        -54.02356339, -54.0231514 ],\n",
        "       [-49.13611603, -49.15561295, -49.17492294, ..., -54.00549698,\n",
        "        -54.00507736, -54.00460815],\n",
        "       ..., \n",
        "       [-32.52060699, -32.53354645, -32.54636002, ..., -36.14809799,\n",
        "        -36.14988327, -36.15166092],\n",
        "       [-32.50307083, -32.51605988, -32.52892685, ..., -36.12985992,\n",
        "        -36.1315918 , -36.13330841],\n",
        "       [-32.48552704, -32.49856949, -32.51148605, ..., -36.11162567,\n",
        "        -36.11329651, -36.11495972]], dtype=float32)"
       ]
      }
     ],
     "prompt_number": 6
    }
   ],
   "metadata": {}
  }
 ]
}