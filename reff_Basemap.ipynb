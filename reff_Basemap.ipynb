{
 "metadata": {
  "name": "",
  "signature": "sha256:32d4830904e8db46d0a8d8216b5943291c3a6d74faa6fc3f9eee173f09de90ac"
 },
 "nbformat": 3,
 "nbformat_minor": 0,
 "worksheets": [
  {
   "cells": [
    {
     "cell_type": "code",
     "collapsed": false,
     "input": [
      "### this one is for the flight track"
     ],
     "language": "python",
     "metadata": {},
     "outputs": []
    },
    {
     "cell_type": "code",
     "collapsed": false,
     "input": [
      "import numpy as np\n",
      "import netCDF4\n",
      "import pandas as pd\n",
      "\n",
      "#ncname = \"../../../Data/2013/nc/20130614_133658.nc\"\n",
      "\n",
      "ncname = \"../../../../Data/2015/nc/20150830_130524.nc\"\n",
      "\n",
      "#SP = [[3000,6000]]\n",
      "SP = [[3900,4800]]\n",
      "\n",
      "ncfile = netCDF4.Dataset(ncname)\n",
      "\n",
      "Range_List = [0]*len(SP) \n",
      "SamplingPeriod = [0]*len(SP)\n",
      "for i in range(len(SP)):\n",
      "    Range_List[i] = range(SP[i][0],SP[i][1])\n",
      "    SamplingPeriod[i] = (SP[i][1]-SP[i][0])\n",
      "    \n",
      "RL = Range_List[0] \n",
      "\n",
      "PLWC021= ncfile.groups[\"WCM\"].variables[\"PLWC021\"][RL]\n",
      "PLWC083= ncfile.groups[\"WCM\"].variables[\"PLWC083\"][RL]\n",
      "PTWC156 = ncfile.groups[\"WCM\"].variables[\"PTWC156\"][RL]\n",
      "LWCC = ncfile.groups[\"CAS\"].variables[\"LWC_CAS\"][RL]\n",
      "LWCHW = ncfile.groups[\"CAS\"].variables[\"LWCHotWire_CAS\"][RL]\n",
      "\n",
      "lat= ncfile.groups[\"AirState\"].variables[\"Latitude\"][RL]\n",
      "lon= ncfile.groups[\"AirState\"].variables[\"Longitude\"][RL]\n",
      "Time = ncfile.variables[\"Time\"][RL]"
     ],
     "language": "python",
     "metadata": {},
     "outputs": [
      {
       "output_type": "stream",
       "stream": "stderr",
       "text": [
        "/home/eunmia/Enthought/Canopy_64bit/User/lib/python2.7/site-packages/pandas/io/excel.py:626: UserWarning: Installed openpyxl is not supported at this time. Use >=1.6.1 and <2.0.0.\n",
        "  .format(openpyxl_compat.start_ver, openpyxl_compat.stop_ver))\n"
       ]
      }
     ],
     "prompt_number": 1
    },
    {
     "cell_type": "code",
     "collapsed": false,
     "input": [
      "print np.shape(lon)\n",
      "print np.shape(x)\n",
      "print np.shape(data)"
     ],
     "language": "python",
     "metadata": {},
     "outputs": [
      {
       "output_type": "stream",
       "stream": "stdout",
       "text": [
        "(900,)\n",
        "(900, 900)\n",
        "(900, 900)\n"
       ]
      }
     ],
     "prompt_number": 5
    },
    {
     "cell_type": "code",
     "collapsed": false,
     "input": [
      "from mpl_toolkits.basemap import Basemap, cm\n",
      "import numpy as np\n",
      "import matplotlib.pyplot as plt\n",
      "\n",
      "fig=plt.figure(num=1,figsize=(8,5))\n",
      "\n",
      "theLats= lat\n",
      "theLons = lon\n",
      "\n",
      "#fig = plt.figure(dpi=300)\n",
      "\n",
      "latcorners = ([-45,-43])\n",
      "loncorners = ([145,147])\n",
      "\n",
      "m = Basemap(projection='cyl',llcrnrlat=latcorners[0],urcrnrlat=latcorners[1],\\\n",
      "            llcrnrlon=loncorners[0],urcrnrlon=loncorners[1],\\\n",
      "            resolution = 'i')\n",
      "# Draw coastlines, state and country boundaries, edge of map.\n",
      "m.drawcoastlines()\n",
      "m.drawstates()\n",
      "m.drawcountries()\n",
      "\n",
      "# Draw filled contours.\n",
      "clevs = np.arange(0,2,0.25)\n",
      "# Define the latitude and longitude data\n",
      "x, y = np.float32(np.meshgrid(theLons, theLats))\n",
      "# Mask the values less than 0 because there is no data to plot.\n",
      "#masked_array = np.ma.masked_where(PTWC156 < 0,PTWC156)\n",
      "\n",
      "# Plot every masked value as white\n",
      "cmap = cm.GMT_drywet\n",
      "cmap.set_bad('w',1.)\n",
      "\n",
      "# Plot the data\n",
      "# make PTWC156 as basemap coordinations\n",
      "data, data = np.float32(np.meshgrid(PTWC156, PTWC156))\n",
      "cs = m.contourf(x,y,data,clevs,cmap=cmap,latlon=True)\n",
      "parallels = np.arange(-45.,-43,.5)\n",
      "m.drawparallels(parallels,labels=[True,False,True,False])\n",
      "meridians = np.arange(145.,147.,5.)\n",
      "m.drawmeridians(meridians,labels=[False,False,False,True])\n",
      "\n",
      "# Set the title and fonts\n",
      "plt.title('LWC')\n",
      "font = {'weight' : 'bold', 'size' : 6}\n",
      "plt.rc('font', **font)\n",
      "\n",
      "# Add colorbar\n",
      "cbar = m.colorbar(cs,location='right',pad=\"5%\")\n",
      "cbar.set_label('g/m^3')\n",
      "#plt.savefig('testIMERGmap.png',dpi=200)\n",
      "plt.show()\n"
     ],
     "language": "python",
     "metadata": {},
     "outputs": [
      {
       "output_type": "stream",
       "stream": "stdout",
       "text": [
        "WARNING: x coordinate not montonically increasing - contour plot\n",
        "may not be what you expect.  If it looks odd, your can either\n",
        "adjust the map projection region to be consistent with your data, or\n",
        "(if your data is on a global lat/lon grid) use the shiftgrid\n",
        "function to adjust the data to be consistent with the map projection\n",
        "region (see examples/contour_demo.py)."
       ]
      }
     ],
     "prompt_number": 2
    },
    {
     "cell_type": "code",
     "collapsed": false,
     "input": [],
     "language": "python",
     "metadata": {},
     "outputs": []
    }
   ],
   "metadata": {}
  }
 ]
}