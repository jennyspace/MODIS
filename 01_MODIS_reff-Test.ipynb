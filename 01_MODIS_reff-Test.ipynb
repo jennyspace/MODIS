{
 "metadata": {
  "name": "",
  "signature": "sha256:25a321960857ba726342b9a079546d46b0c39909745f8963ab459fe959a1b8bd"
 },
 "nbformat": 3,
 "nbformat_minor": 0,
 "worksheets": [
  {
   "cells": [
    {
     "cell_type": "code",
     "collapsed": false,
     "input": [
      "### 14/09/2016 - Add Cloud phase info to a df and a file --------------------------------------------\n",
      "### 29/08/2016 - Read reff from MODIS data to df and save in a file ---------------------------------"
     ],
     "language": "python",
     "metadata": {},
     "outputs": []
    },
    {
     "cell_type": "code",
     "collapsed": false,
     "input": [
      "def Max_reff(FDate, f, f2):\n",
      "    import numpy as np\n",
      "    from pyhdf.SD import SD\n",
      "    from scipy import array\n",
      "    import pandas as pd\n",
      "    ### read a file\n",
      "    f=SD(filename)\n",
      "    f2=SD(filename2)\n",
      "\n",
      "    reff=array(f.select('Cloud_Effective_Radius').get()) * 0.01 ### this works, 20130723\n",
      "    #reff=array(f.select('Cloud_Effective_Radius_37').get()) * 0.009999 ### this works, 20130723\n",
      "#    CPhase=array(f.select('Cloud_Phase_Optical_Properties').get())\n",
      "\n",
      "#    lat1 = array(f2.select('Latitude').get())\n",
      "#    long1 = array(f2.select('Longitude').get())\n",
      "#    ZAngle=array(f2.select('SolarZenith').get())*0.01\n",
      "    print FDate, \" \", np.max(reff), \" \", np.min(np.abs(reff))"
     ],
     "language": "python",
     "metadata": {},
     "outputs": [],
     "prompt_number": 19
    },
    {
     "cell_type": "code",
     "collapsed": false,
     "input": [
      "from numpy import *\n",
      "from pyhdf.SD import SD\n",
      "from scipy import array\n",
      "import pandas as pd\n",
      "\n",
      "### file location should be correct otherwise will get SD error msg\n",
      "\n",
      "filename = \"./20130614/Reff/MYD06_L2.A2013165.0420.006.2014266205611.hdf\"  \n",
      "filename2 = \"./20130614/Reff/MYD03.A2013165.0420.006.2013165155508.hdf\"\n",
      "FDate=\"20130614_133658\"\n",
      "Max_reff(FDate, filename, filename2)\n",
      "\n",
      "filename = \"./20130628/Reff/MYD06_L2.A2013179.0430.006.2014267001301.hdf\"  \n",
      "filename2 = \"./20130628/Reff/MYD03.A2013179.0430.006.2013179161739.hdf\"\n",
      "FDate=\"20130628_130139\"\n",
      "Max_reff(FDate, filename, filename2)\n",
      "\n",
      "filename = \"./20130707/Reff/MYD06_L2.A2013188.0425.006.2014267025147.hdf\"  \n",
      "filename2 = \"./20130707/Reff/MYD03.A2013188.0425.006.2013188151355.hdf\"\n",
      "FDate=\"20130707_125944\"\n",
      "Max_reff(FDate, filename, filename2)\n",
      "\n",
      "filename = \"./20130723/Reff/MYD06_L2.A2013204.0425.006.2014267101648.hdf\"  \n",
      "filename2 = \"./20130723/Reff/MYD03.A2013204.0425.006.2013205024031.hdf\"\n",
      "FDate=\"20130723_130219\"\n",
      "Max_reff(FDate, filename, filename2)\n",
      "\n",
      "filename = \"./20130806/Reff/MYD06_L2.A2013218.0440.006.2014267174320.hdf\" ### AC flew after overpass\n",
      "filename2 = \"./20130806/Reff/MYD03.A2013218.0440.006.2013218171157.hdf\"\n",
      "FDate=\"20130806_151347\"\n",
      "Max_reff(FDate, filename, filename2)\n",
      "\n",
      "filename = \"./20130815/Reff/MYD06_L2.A2013227.0430.006.2014267173440.hdf\"  \n",
      "filename2 = \"./20130815/Reff/MYD03.A2013227.0430.006.2013227204402.hdf\"\n",
      "FDate=\"20130815_122404\"\n",
      "Max_reff(FDate, filename, filename2)\n",
      "\n",
      "filename = \"./20130907/Reff/MYD06_L2.A2013250.0435.006.2014267090313.hdf\"  \n",
      "filename2 = \"./20130907/Reff/MYD03.A2013250.0435.006.2013250172454.hdf\"\n",
      "FDate=\"20130907_122442\"\n",
      "Max_reff(FDate, filename, filename2)\n",
      "\n",
      "filename = \"./20131011/Reff/MYD06_L2.A2013284.0425.006.2014268093706.hdf\"  \n",
      "filename2 = \"./20131011/Reff/MYD03.A2013284.0425.006.2013298033119.hdf\"\n",
      "FDate=\"20131011_132432\"\n",
      "Max_reff(FDate, filename, filename2)\n",
      "'''\n",
      "filename = \"./20140806/Reff/MYD06_L2.A2014218.0405.006.2014271211204.hdf\"  \n",
      "filename2 = \"./20140806/Reff/MYD03.A2014218.0405.006.2014220175309.hdf\"\n",
      "FDate=\"20140806_150804\"\n",
      "Max_reff(FDate, filename, filename2)\n",
      "\n",
      "filename = \"./20140903/Reff/MYD06_L2.A2014246.0430.006.2014272144020.hdf\"  \n",
      "filename2 = \"./20140903/Reff/MYD03.A2014246.0430.006.2014246153856.hdf\"\n",
      "FDate=\"20140903_124321\"\n",
      "Max_reff(FDate, filename, filename2)\n",
      "\n",
      "filename = \"./20140912/Reff/MYD06_L2.A2014255.0425.006.2014282201310.hdf\"  \n",
      "filename2 = \"./20140912/Reff/MYD03.A2014255.0425.006.2014261140010.hdf\"\n",
      "FDate=\"20140912_124317\"\n",
      "Max_reff(FDate, filename, filename2)\n",
      "'''\n",
      "filename = \"./20150830/Reff/MYD06_L2.A2015242.0425.006.2015243234239.hdf\"  \n",
      "filename2 = \"./20150830/Reff/MYD03.A2015242.0425.006.2015243130645.hdf\"\n",
      "FDate=\"20150830_130524\"\n",
      "Max_reff(FDate, filename, filename2)\n",
      "\n",
      "filename = \"./20151001/Reff/MYD06_L2.A2015274.0425.006.2015274203619.hdf\"  \n",
      "filename2 = \"./20151001/Reff/MYD03.A2015274.0425.006.2015274154732.hdf\"\n",
      "FDate=\"20151001_123025\"\n",
      "Max_reff(FDate, filename, filename2)"
     ],
     "language": "python",
     "metadata": {},
     "outputs": [
      {
       "output_type": "stream",
       "stream": "stdout",
       "text": [
        "20130614_133658   60.0   4.01\n",
        "20130628_130139"
       ]
      },
      {
       "output_type": "stream",
       "stream": "stdout",
       "text": [
        "   60.0   4.0\n",
        "20130707_125944"
       ]
      },
      {
       "output_type": "stream",
       "stream": "stdout",
       "text": [
        "   60.0   4.0\n",
        "20130723_130219"
       ]
      },
      {
       "output_type": "stream",
       "stream": "stdout",
       "text": [
        "   60.0   4.0\n",
        "20130806_151347"
       ]
      },
      {
       "output_type": "stream",
       "stream": "stdout",
       "text": [
        "   60.0   4.0\n",
        "20130815_122404"
       ]
      },
      {
       "output_type": "stream",
       "stream": "stdout",
       "text": [
        "   60.0   4.07\n",
        "20130907_122442"
       ]
      },
      {
       "output_type": "stream",
       "stream": "stdout",
       "text": [
        "   60.0   4.02\n",
        "20131011_132432"
       ]
      },
      {
       "output_type": "stream",
       "stream": "stdout",
       "text": [
        "   60.0   4.03\n",
        "20150830_130524"
       ]
      },
      {
       "output_type": "stream",
       "stream": "stdout",
       "text": [
        "   59.99   4.0\n",
        "20151001_123025"
       ]
      },
      {
       "output_type": "stream",
       "stream": "stdout",
       "text": [
        "   60.0   4.0\n"
       ]
      }
     ],
     "prompt_number": 20
    },
    {
     "cell_type": "code",
     "collapsed": false,
     "input": [
      "### Create 3 colums of lat1, long1, and reff having 1354 X 2030 rows ----------------------------\n",
      "### Because the elements of lat1 is an array (1 X 1354), to be data for dataframe, it should be converted to a list\n",
      "\n",
      "lst_lat1 = list(lat1[0])\n",
      "lst_long1 = list(long1[0])\n",
      "lst_reff = list(reff[0])\n",
      "lst_CPhase = list(CPhase[0])\n",
      "lst_ZAngle = list(ZAngle[0])\n",
      "\n",
      "df = pd.DataFrame({'FDate': FDate,'lat1': lst_lat1, 'long1': lst_long1, 'reff': lst_reff, 'CPhase':lst_CPhase,\\\n",
      "                   'ZAngle': lst_ZAngle }, index=range(len(lst_lat1))) \n",
      "\n",
      "frames = [ df]\n",
      "frames = pd.concat(frames)\n",
      "\n",
      "for j in range(2030-1):\n",
      "    lst_lat1 = list(lat1[j+1])\n",
      "    lst_long1 = list(long1[j+1])\n",
      "    lst_reff = list(reff[j+1])\n",
      "    lst_CPhase = list(CPhase[j+1])\n",
      "    lst_ZAngle = list(ZAngle[j+1])\n",
      "    df = pd.DataFrame({'FDate': FDate, 'lat1': lst_lat1, 'long1': lst_long1, 'reff': lst_reff, 'CPhase':lst_CPhase,\\\n",
      "                        'ZAngle': lst_ZAngle}, index=range(len(lst_lat1)) ) \n",
      "    frames = [ frames, df]\n",
      "    frames = pd.concat(frames)\n",
      "    \n",
      "### Save the frames to a file and read \n",
      "#frames.to_csv('MODIS_reff_CPhase_' + FDate + '.csv', mode='w')\n"
     ],
     "language": "python",
     "metadata": {},
     "outputs": []
    },
    {
     "cell_type": "code",
     "collapsed": false,
     "input": [
      "### 1) For exact location(flight track) -----------------------------\n",
      "\n",
      "### 20151001 ---------\n",
      "lat_max = str(-44)\n",
      "lat_min = str(-44.8)\n",
      "long_min = str(146.5)\n",
      "long_max = str(147.1)   \n",
      "'''\n",
      "### 20130614 ---------\n",
      "lat_max = str(-43.4)\n",
      "lat_min = str(-43.7)\n",
      "long_min = str(148.2)\n",
      "long_max = str(148.5)   \n",
      "\n",
      "### 20130628 ---------\n",
      "lat_max = str(-43.6)\n",
      "lat_min = str(-44.2)\n",
      "long_min = str(145)\n",
      "long_max = str(145.5)   \n",
      "'''\n",
      "\n",
      "query_Liq = 'lat1 <'+lat_max+' & lat1 >'+lat_min+'& long1 >'+long_min+'& long1 <'+long_max+'& reff>0 & CPhase == 2 \\\n",
      "& ZAngle < 65 '\n",
      "\n",
      "df_MODIS_Liq = frames.query(query_Liq)  ### MODIS reff default = 1km"
     ],
     "language": "python",
     "metadata": {},
     "outputs": [],
     "prompt_number": 2
    },
    {
     "cell_type": "code",
     "collapsed": false,
     "input": [
      "#df_MODIS_Liq['reff'].mean()\n",
      "df_MODIS_Liq.describe()"
     ],
     "language": "python",
     "metadata": {},
     "outputs": [
      {
       "html": [
        "<div style=\"max-height:1000px;max-width:1500px;overflow:auto;\">\n",
        "<table border=\"1\" class=\"dataframe\">\n",
        "  <thead>\n",
        "    <tr style=\"text-align: right;\">\n",
        "      <th></th>\n",
        "      <th>CPhase</th>\n",
        "      <th>ZAngle</th>\n",
        "      <th>lat1</th>\n",
        "      <th>long1</th>\n",
        "      <th>reff</th>\n",
        "    </tr>\n",
        "  </thead>\n",
        "  <tbody>\n",
        "    <tr>\n",
        "      <th>count</th>\n",
        "      <td> 2421</td>\n",
        "      <td> 2421.000000</td>\n",
        "      <td> 2421.000000</td>\n",
        "      <td> 2421.000000</td>\n",
        "      <td> 2421.000000</td>\n",
        "    </tr>\n",
        "    <tr>\n",
        "      <th>mean</th>\n",
        "      <td>    2</td>\n",
        "      <td>   52.123668</td>\n",
        "      <td>  -44.332052</td>\n",
        "      <td>  146.801917</td>\n",
        "      <td>   18.553291</td>\n",
        "    </tr>\n",
        "    <tr>\n",
        "      <th>std</th>\n",
        "      <td>    0</td>\n",
        "      <td>    0.153846</td>\n",
        "      <td>    0.214940</td>\n",
        "      <td>    0.168010</td>\n",
        "      <td>    4.976989</td>\n",
        "    </tr>\n",
        "    <tr>\n",
        "      <th>min</th>\n",
        "      <td>    2</td>\n",
        "      <td>   51.760000</td>\n",
        "      <td>  -44.799603</td>\n",
        "      <td>  146.500061</td>\n",
        "      <td>    8.729127</td>\n",
        "    </tr>\n",
        "    <tr>\n",
        "      <th>25%</th>\n",
        "      <td>    2</td>\n",
        "      <td>   52.010000</td>\n",
        "      <td>  -44.510593</td>\n",
        "      <td>  146.659042</td>\n",
        "      <td>   14.628537</td>\n",
        "    </tr>\n",
        "    <tr>\n",
        "      <th>50%</th>\n",
        "      <td>    2</td>\n",
        "      <td>   52.120000</td>\n",
        "      <td>  -44.306644</td>\n",
        "      <td>  146.808319</td>\n",
        "      <td>   17.718228</td>\n",
        "    </tr>\n",
        "    <tr>\n",
        "      <th>75%</th>\n",
        "      <td>    2</td>\n",
        "      <td>   52.240000</td>\n",
        "      <td>  -44.141270</td>\n",
        "      <td>  146.941132</td>\n",
        "      <td>   22.027797</td>\n",
        "    </tr>\n",
        "    <tr>\n",
        "      <th>max</th>\n",
        "      <td>    2</td>\n",
        "      <td>   52.500000</td>\n",
        "      <td>  -44.000252</td>\n",
        "      <td>  147.099960</td>\n",
        "      <td>   29.957004</td>\n",
        "    </tr>\n",
        "  </tbody>\n",
        "</table>\n",
        "</div>"
       ],
       "metadata": {},
       "output_type": "pyout",
       "prompt_number": 3,
       "text": [
        "       CPhase       ZAngle         lat1        long1         reff\n",
        "count    2421  2421.000000  2421.000000  2421.000000  2421.000000\n",
        "mean        2    52.123668   -44.332052   146.801917    18.553291\n",
        "std         0     0.153846     0.214940     0.168010     4.976989\n",
        "min         2    51.760000   -44.799603   146.500061     8.729127\n",
        "25%         2    52.010000   -44.510593   146.659042    14.628537\n",
        "50%         2    52.120000   -44.306644   146.808319    17.718228\n",
        "75%         2    52.240000   -44.141270   146.941132    22.027797\n",
        "max         2    52.500000   -44.000252   147.099960    29.957004"
       ]
      }
     ],
     "prompt_number": 3
    },
    {
     "cell_type": "code",
     "collapsed": false,
     "input": [],
     "language": "python",
     "metadata": {},
     "outputs": []
    },
    {
     "cell_type": "code",
     "collapsed": false,
     "input": [
      "### Calculate reff of MODIS\n",
      "### Get coordinates from the Coordinates file\n",
      "df_coordinates = pd.read_csv('Coordinates.csv')\n",
      "query1 = 'FDate == '+ FDate\n",
      "df_coordinates = df_coordinates.query(query1)\n",
      "\n",
      "### Read(Get) MODIS data\n",
      "df_MODIS = pd.read_csv('MODIS_reff_'+ FDate + '.csv')\n",
      "\n",
      "lat_max = str(float(df_coordinates['lat_max'])) ### just str doesn't work because df[' ' ] = special type\n",
      "lat_min = str(float(df_coordinates['lat_min']))\n",
      "long_min = str(float(df_coordinates['long_min']))\n",
      "long_max = str(float(df_coordinates['long_max']))\n",
      "\n",
      "query2 = 'lat1 <' + lat_max + ' & lat1 >' + lat_min + '& long1 >'+ long_min+ '& long1 <' + long_max\n",
      "df_MODIS2 = df_MODIS.query(query2)\n",
      "\n",
      "### Create a file having reff\n",
      "df_MODIS2.to_csv('MODIS_reff.csv', mode='w')"
     ],
     "language": "python",
     "metadata": {},
     "outputs": [],
     "prompt_number": 7
    },
    {
     "cell_type": "code",
     "collapsed": false,
     "input": [
      "df_coordinates['lat_max']"
     ],
     "language": "python",
     "metadata": {},
     "outputs": [
      {
       "metadata": {},
       "output_type": "pyout",
       "prompt_number": 12,
       "text": [
        "1   -42.3\n",
        "Name: lat_max, dtype: float64"
       ]
      }
     ],
     "prompt_number": 12
    },
    {
     "cell_type": "code",
     "collapsed": false,
     "input": [
      "import pandas as pd\n",
      "df_MODIS_reff = pd.read_csv('MODIS_reff_CPhase_20130628_130139.csv')\n",
      "df_MODIS_reff[0:10]"
     ],
     "language": "python",
     "metadata": {},
     "outputs": [
      {
       "html": [
        "<div style=\"max-height:1000px;max-width:1500px;overflow:auto;\">\n",
        "<table border=\"1\" class=\"dataframe\">\n",
        "  <thead>\n",
        "    <tr style=\"text-align: right;\">\n",
        "      <th></th>\n",
        "      <th>Unnamed: 0</th>\n",
        "      <th>CPhase</th>\n",
        "      <th>FDate</th>\n",
        "      <th>lat1</th>\n",
        "      <th>long1</th>\n",
        "      <th>reff</th>\n",
        "    </tr>\n",
        "  </thead>\n",
        "  <tbody>\n",
        "    <tr>\n",
        "      <th>0</th>\n",
        "      <td> 0</td>\n",
        "      <td> 0</td>\n",
        "      <td> 20130628_130139</td>\n",
        "      <td>-53.858639</td>\n",
        "      <td> 167.535263</td>\n",
        "      <td>-99.980001</td>\n",
        "    </tr>\n",
        "    <tr>\n",
        "      <th>1</th>\n",
        "      <td> 1</td>\n",
        "      <td> 0</td>\n",
        "      <td> 20130628_130139</td>\n",
        "      <td>-53.881084</td>\n",
        "      <td> 167.469299</td>\n",
        "      <td>-99.980001</td>\n",
        "    </tr>\n",
        "    <tr>\n",
        "      <th>2</th>\n",
        "      <td> 2</td>\n",
        "      <td> 0</td>\n",
        "      <td> 20130628_130139</td>\n",
        "      <td>-53.903316</td>\n",
        "      <td> 167.403778</td>\n",
        "      <td>-99.980001</td>\n",
        "    </tr>\n",
        "    <tr>\n",
        "      <th>3</th>\n",
        "      <td> 3</td>\n",
        "      <td> 0</td>\n",
        "      <td> 20130628_130139</td>\n",
        "      <td>-53.925335</td>\n",
        "      <td> 167.338715</td>\n",
        "      <td>-99.980001</td>\n",
        "    </tr>\n",
        "    <tr>\n",
        "      <th>4</th>\n",
        "      <td> 4</td>\n",
        "      <td> 0</td>\n",
        "      <td> 20130628_130139</td>\n",
        "      <td>-53.947147</td>\n",
        "      <td> 167.274094</td>\n",
        "      <td>-99.980001</td>\n",
        "    </tr>\n",
        "    <tr>\n",
        "      <th>5</th>\n",
        "      <td> 5</td>\n",
        "      <td> 0</td>\n",
        "      <td> 20130628_130139</td>\n",
        "      <td>-53.968758</td>\n",
        "      <td> 167.209915</td>\n",
        "      <td>-99.980001</td>\n",
        "    </tr>\n",
        "    <tr>\n",
        "      <th>6</th>\n",
        "      <td> 6</td>\n",
        "      <td> 0</td>\n",
        "      <td> 20130628_130139</td>\n",
        "      <td>-53.990170</td>\n",
        "      <td> 167.146149</td>\n",
        "      <td>-99.980001</td>\n",
        "    </tr>\n",
        "    <tr>\n",
        "      <th>7</th>\n",
        "      <td> 7</td>\n",
        "      <td> 0</td>\n",
        "      <td> 20130628_130139</td>\n",
        "      <td>-54.011383</td>\n",
        "      <td> 167.082809</td>\n",
        "      <td>-99.980001</td>\n",
        "    </tr>\n",
        "    <tr>\n",
        "      <th>8</th>\n",
        "      <td> 8</td>\n",
        "      <td> 0</td>\n",
        "      <td> 20130628_130139</td>\n",
        "      <td>-54.032402</td>\n",
        "      <td> 167.019897</td>\n",
        "      <td>-99.980001</td>\n",
        "    </tr>\n",
        "    <tr>\n",
        "      <th>9</th>\n",
        "      <td> 9</td>\n",
        "      <td> 0</td>\n",
        "      <td> 20130628_130139</td>\n",
        "      <td>-54.053226</td>\n",
        "      <td> 166.957397</td>\n",
        "      <td>-99.980001</td>\n",
        "    </tr>\n",
        "  </tbody>\n",
        "</table>\n",
        "</div>"
       ],
       "metadata": {},
       "output_type": "pyout",
       "prompt_number": 3,
       "text": [
        "   Unnamed: 0  CPhase            FDate       lat1       long1       reff\n",
        "0           0       0  20130628_130139 -53.858639  167.535263 -99.980001\n",
        "1           1       0  20130628_130139 -53.881084  167.469299 -99.980001\n",
        "2           2       0  20130628_130139 -53.903316  167.403778 -99.980001\n",
        "3           3       0  20130628_130139 -53.925335  167.338715 -99.980001\n",
        "4           4       0  20130628_130139 -53.947147  167.274094 -99.980001\n",
        "5           5       0  20130628_130139 -53.968758  167.209915 -99.980001\n",
        "6           6       0  20130628_130139 -53.990170  167.146149 -99.980001\n",
        "7           7       0  20130628_130139 -54.011383  167.082809 -99.980001\n",
        "8           8       0  20130628_130139 -54.032402  167.019897 -99.980001\n",
        "9           9       0  20130628_130139 -54.053226  166.957397 -99.980001"
       ]
      }
     ],
     "prompt_number": 3
    },
    {
     "cell_type": "code",
     "collapsed": false,
     "input": [
      "len(df_MODIS_reff.query('reff < 0')) ### Question) what does this mean?"
     ],
     "language": "python",
     "metadata": {},
     "outputs": [
      {
       "metadata": {},
       "output_type": "pyout",
       "prompt_number": 9,
       "text": [
        "61074"
       ]
      }
     ],
     "prompt_number": 9
    },
    {
     "cell_type": "code",
     "collapsed": false,
     "input": [
      "print len(df_MODIS_reff.query('reff < 0'))\n",
      "print len(df_MODIS_reff)\n",
      "print np.mean(df_MODIS_reff[df_MODIS_reff['reff'] > 0]) ### 0.26 when extended lat, long by 0.1 degree\n",
      "print len( df_MODIS_reff.query('reff > 0') )"
     ],
     "language": "python",
     "metadata": {},
     "outputs": [
      {
       "output_type": "stream",
       "stream": "stdout",
       "text": [
        "61074\n",
        "71404\n",
        "Unnamed: 0      1407649.630010\n",
        "Unnamed: 0.1        586.592836\n",
        "lat1                -43.545993\n",
        "long1               146.016807\n",
        "reff                 20.965430\n",
        "dtype: float64"
       ]
      },
      {
       "output_type": "stream",
       "stream": "stdout",
       "text": [
        "\n",
        "10330\n"
       ]
      }
     ],
     "prompt_number": 10
    },
    {
     "cell_type": "code",
     "collapsed": false,
     "input": [],
     "language": "python",
     "metadata": {},
     "outputs": []
    },
    {
     "cell_type": "code",
     "collapsed": false,
     "input": [
      "### Exe for concatenate -----------------------------------------\n",
      "### Refer http://pandas.pydata.org/pandas-docs/stable/merging.html -------------------\n",
      "lst_lat1 = list(lat1[0])\n",
      "lst_long1 = list(long1[0])\n",
      "lst_reff = list(data[0])\n",
      "df = pd.DataFrame({'lat1': lst_lat1, 'long1': lst_long1, 'reff': lst_reff}, index=range(len(lst_lat1)) ) \n",
      "\n",
      "lst_lat2 = list(lat1[1])\n",
      "lst_long2 = list(long1[1])\n",
      "lst_reff2 = list(data[1])\n",
      "\n",
      "df2 = pd.DataFrame({'lat1': lst_lat2, 'long1': lst_long2, 'reff': lst_reff2}, index=range(len(lst_lat1)) ) \n",
      "\n",
      "df2 = [ df, df2]\n",
      "df2 = pd.concat(df2)\n",
      "print len(df2)\n",
      "print 1354*2"
     ],
     "language": "python",
     "metadata": {},
     "outputs": [
      {
       "output_type": "stream",
       "stream": "stdout",
       "text": [
        "2708\n",
        "2708\n"
       ]
      }
     ],
     "prompt_number": 144
    },
    {
     "cell_type": "code",
     "collapsed": false,
     "input": [
      "### Practice ------------------------------\n",
      "#print len(lst_lat1 )     # 2030 \n",
      "#print np.shape(lst_lat1) # (2030, 1354)\n",
      "#print type(lst_lat1)     # <type 'list'>\n",
      "# len(df_lat1['lat1'].iloc[0]) # 1354\n",
      "\n",
      "#lst_idx1 = lst_lat1[lst_lat1 < -43.9389].index()"
     ],
     "language": "python",
     "metadata": {},
     "outputs": [],
     "prompt_number": 5
    },
    {
     "cell_type": "code",
     "collapsed": false,
     "input": [
      "lat1[0:]"
     ],
     "language": "python",
     "metadata": {},
     "outputs": [
      {
       "metadata": {},
       "output_type": "pyout",
       "prompt_number": 6,
       "text": [
        "array([[-49.1692543 , -49.18866348, -49.20788574, ..., -54.04235458,\n",
        "        -54.04204941, -54.04169464],\n",
        "       [-49.15268707, -49.17214203, -49.19140625, ..., -54.02392578,\n",
        "        -54.02356339, -54.0231514 ],\n",
        "       [-49.13611603, -49.15561295, -49.17492294, ..., -54.00549698,\n",
        "        -54.00507736, -54.00460815],\n",
        "       ..., \n",
        "       [-32.52060699, -32.53354645, -32.54636002, ..., -36.14809799,\n",
        "        -36.14988327, -36.15166092],\n",
        "       [-32.50307083, -32.51605988, -32.52892685, ..., -36.12985992,\n",
        "        -36.1315918 , -36.13330841],\n",
        "       [-32.48552704, -32.49856949, -32.51148605, ..., -36.11162567,\n",
        "        -36.11329651, -36.11495972]], dtype=float32)"
       ]
      }
     ],
     "prompt_number": 6
    }
   ],
   "metadata": {}
  }
 ]
}