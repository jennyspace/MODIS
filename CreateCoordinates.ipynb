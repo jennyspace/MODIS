{
 "metadata": {
  "name": "",
  "signature": "sha256:ca5e3449c300dea35aaf8c479e3ad602e7231f70977b48e2b378a405aafbf9d6"
 },
 "nbformat": 3,
 "nbformat_minor": 0,
 "worksheets": [
  {
   "cells": [
    {
     "cell_type": "code",
     "collapsed": false,
     "input": [
      "import pandas as pd\n",
      "\n",
      "df_FlightInfo = pd.read_csv('./Flight_info2.csv')\n",
      "df3 = pd.read_csv('../No3Km/10_No3Km_df3_.csv')"
     ],
     "language": "python",
     "metadata": {},
     "outputs": [
      {
       "output_type": "stream",
       "stream": "stderr",
       "text": [
        "/home/eunmia/Enthought/Canopy_64bit/User/lib/python2.7/site-packages/pandas/io/excel.py:626: UserWarning: Installed openpyxl is not supported at this time. Use >=1.6.1 and <2.0.0.\n",
        "  .format(openpyxl_compat.start_ver, openpyxl_compat.stop_ver))\n"
       ]
      }
     ],
     "prompt_number": 1
    },
    {
     "cell_type": "code",
     "collapsed": false,
     "input": [
      "### This one gets flight coordinates where MODIS should look with MODIS overpass time\n",
      "def GetCoordinates(fname, Start_time, MODIS_time):\n",
      "    import pandas as pd\n",
      "\n",
      "    ### time convert (HHmm --> seconds)\n",
      "    Start_secs = int(Start_time[0:2])*3600 + int(Start_time[2:4])*60 + int(Start_time[4:6])\n",
      "    MODIS_Time_to_local_secs = (int(MODIS_Time[0:2])+10)*3600 + int(MODIS_Time[2:4])*60 + int(MODIS_Time[5:6])*6 ### seconds\n",
      "    Target_secs = MODIS_Time_to_local_secs - Start_secs\n",
      "    print Target_secs \n",
      "\n",
      "    '''\n",
      "    1) Exact time: Target_secs (6km)\n",
      "    2) +- 2 ms = Target_secs + 2*60 (12km)\n",
      "    3) +- 5 ms = Target_secs + 5*60 (30km)\n",
      "    4) +- 10 ms = Target_secs + 10*60 (60km)\n",
      "    '''\n",
      "    ### How to get the targets to average ------------------------------------------------------------------------------\n",
      "    ### 1) Target_secs + - 10 minutes => A/C avg, and coordinates (Where aircraft flew for + - 10 minutes from MODIS overpass)\n",
      "    ### 2) min/max coordinates + - 0.1 degree (10km X 10km) and 0.05 degree (5km X 5km)\n",
      "    ### For 1) get coordinates, get df +- 10 ms => get min/max of lat1 and long1\n",
      "    #Target_secs_plus10ms = Target_secs + 10*60\n",
      "    Target_secs_plus10ms = Target_secs + 20*60\n",
      "    Target_secs_minus10ms = Target_secs - 10*60\n",
      "    FDate = \"20130614_133658\"\n",
      "\n",
      "    ## get coordinates\n",
      "    df3 = pd.read_csv('../No3Km/10_No3Km_df3_.csv')\n",
      "    query1 = 'FDate == \"20130614_133658\" & Time > ' + str(Target_secs_minus10ms) +' & Time < '+ str(Target_secs_plus10ms)\n",
      "    #'FDate == \"20150830_130524\" & Time > 4242 & Time < 5442'\n",
      "    #20130614_133658 \n",
      "    #20150830_130524\n",
      "    df_target10ms = df3.query(query1)\n",
      "    \n",
      "\n",
      "    lat_min = df_target10ms['lat1'].min()\n",
      "    lat_max = df_target10ms['lat1'].max()\n",
      "    long_min = df_target10ms['long1'].min()\n",
      "    long_max = df_target10ms['long1'].max()\n",
      "\n",
      "    return fname, lat_min, lat_max, long_min, long_max, df_target10ms, Target_secs_plus10ms, Target_secs_minus10ms"
     ],
     "language": "python",
     "metadata": {},
     "outputs": [],
     "prompt_number": 6
    },
    {
     "cell_type": "code",
     "collapsed": false,
     "input": [
      "df_target10ms['Reff_Total'].mean()\n",
      "df_target10ms['Reff_Total'].std()"
     ],
     "language": "python",
     "metadata": {},
     "outputs": [
      {
       "metadata": {},
       "output_type": "pyout",
       "prompt_number": 24,
       "text": [
        "1.5607690412101465"
       ]
      }
     ],
     "prompt_number": 24
    },
    {
     "cell_type": "code",
     "collapsed": false,
     "input": [
      "#df3_0614 = df3.query('FDate == \"20130614_133658\" & Time > 2678 & Time < 3878')\n",
      "len(df3_0614)"
     ],
     "language": "python",
     "metadata": {},
     "outputs": [
      {
       "metadata": {},
       "output_type": "pyout",
       "prompt_number": 22,
       "text": [
        "26"
       ]
      }
     ],
     "prompt_number": 22
    },
    {
     "cell_type": "code",
     "collapsed": false,
     "input": [
      "def Save_Coordinates(fname,lat_min, lat_max, long_min, long_max ):\n",
      "    \n",
      "    FDate = fname[0:15]\n",
      "    df = pd.DataFrame({'FDate': FDate, 'lat_min': lat_min, 'lat_max': lat_max, \\\n",
      "                       'long_min': long_min, 'long_max': long_max}, index =[FDate])\n",
      "    \n",
      "    if FDate == \"20130614_133658\":\n",
      "        df.to_csv('Coordinates.csv', mode='w')\n",
      "    else:\n",
      "        df.to_csv('Coordinates.csv', mode='a', header=False)  \n",
      "    return 0"
     ],
     "language": "python",
     "metadata": {},
     "outputs": [],
     "prompt_number": 14
    },
    {
     "cell_type": "code",
     "collapsed": false,
     "input": [
      "### This one read MODIS_time from Flight_Info file ---------------------------------------------\n",
      "#file open and read File_Info\n",
      "#get fname and MODIS_Time\n",
      "'''\n",
      "### 20150830\n",
      "fname = \"20150830\"\n",
      "Start_time = '130524'\n",
      "MODIS_Time = '0426.1'\n",
      "'''\n",
      "### 20150614\n",
      "fname = \"20130614_133658\"\n",
      "Start_time = '133658'\n",
      "MODIS_Time = '0421.6' ### This should be saved in the FlightInfo\n",
      "\n",
      "fname, lat_min, lat_max, long_min, long_max, df_target10ms, Target_secs_plus10ms, Target_secs_minus10ms = GetCoordinates(fname, Start_time, MODIS_Time)\n",
      "Save_Coordinates(fname,lat_min, lat_max, long_min, long_max )"
     ],
     "language": "python",
     "metadata": {},
     "outputs": [
      {
       "output_type": "stream",
       "stream": "stdout",
       "text": [
        "2678\n"
       ]
      },
      {
       "metadata": {},
       "output_type": "pyout",
       "prompt_number": 15,
       "text": [
        "0"
       ]
      }
     ],
     "prompt_number": 15
    },
    {
     "cell_type": "code",
     "collapsed": false,
     "input": [],
     "language": "python",
     "metadata": {},
     "outputs": []
    },
    {
     "cell_type": "code",
     "collapsed": false,
     "input": [
      "import pandas as pd\n",
      "df_Coordinates = pd.read_csv('Coordinates.csv')\n",
      "df_Coordinates"
     ],
     "language": "python",
     "metadata": {},
     "outputs": [
      {
       "html": [
        "<div style=\"max-height:1000px;max-width:1500px;overflow:auto;\">\n",
        "<table border=\"1\" class=\"dataframe\">\n",
        "  <thead>\n",
        "    <tr style=\"text-align: right;\">\n",
        "      <th></th>\n",
        "      <th>Unnamed: 0</th>\n",
        "      <th>FDate</th>\n",
        "      <th>lat_max</th>\n",
        "      <th>lat_min</th>\n",
        "      <th>long_max</th>\n",
        "      <th>long_min</th>\n",
        "    </tr>\n",
        "  </thead>\n",
        "  <tbody>\n",
        "    <tr>\n",
        "      <th>0</th>\n",
        "      <td> 20130614_133658</td>\n",
        "      <td> 20130614_133658</td>\n",
        "      <td>-43.6</td>\n",
        "      <td>-43.6</td>\n",
        "      <td> 148.2</td>\n",
        "      <td> 148.2</td>\n",
        "    </tr>\n",
        "  </tbody>\n",
        "</table>\n",
        "</div>"
       ],
       "metadata": {},
       "output_type": "pyout",
       "prompt_number": 16,
       "text": [
        "        Unnamed: 0            FDate  lat_max  lat_min  long_max  long_min\n",
        "0  20130614_133658  20130614_133658    -43.6    -43.6     148.2     148.2"
       ]
      }
     ],
     "prompt_number": 16
    },
    {
     "cell_type": "code",
     "collapsed": false,
     "input": [
      "### Plot flight (cloud collecting) tracks -------------------------------------------------------------------------------\n",
      "### The track looks having less points because lat1 and long1 is rounded in one decimal point----------------------------\n",
      "#lat= list(df_target10ms['lat1'][:])  ### has to convert to list, otherwise, it doesn't work coz it's series type\n",
      "#lon= list(df_target10ms['long1'][:])\n",
      "\n",
      "#df3_Target = df3.query('FDate == \"20150830_130524\" & Time > 4242 & Time < 5442') ### Be careful\n",
      "df3_Target = df_target10ms\n",
      "lat = list(df3_Target['lat1'][:])\n",
      "lon = list(df3_Target['long1'][:])\n",
      "\n",
      "from mpl_toolkits.basemap import Basemap\n",
      "import numpy as np\n",
      "import matplotlib.pyplot as plt\n",
      "# create new figure, axes instances.\n",
      "fig=plt.figure()\n",
      "ax=fig.add_axes([0.1,0.1,0.8,0.8])\n",
      "\n",
      "m = Basemap(llcrnrlon=143.,llcrnrlat=-45.,urcrnrlon=150.,urcrnrlat=-40.,\\\n",
      "            rsphere=(6378137.00,6356752.3142),\\\n",
      "            resolution='l',projection='merc',\\\n",
      "            lat_0=40.,lon_0=-20.,lat_ts=20.)\n",
      "m.drawcoastlines()\n",
      "m.drawmapboundary(fill_color='aqua')\n",
      "m.fillcontinents(color='coral',lake_color='aqua')\n",
      "# draw parallels\n",
      "m.drawparallels(np.arange(-40,-50,-1),labels=[1,1,0,1])\n",
      "# draw meridians\n",
      "m.drawmeridians(np.arange(140,150,1),labels=[1,1,0,1])\n",
      "ax.set_title('Flights map')\n",
      "\n",
      "color=\"red\"\n",
      "marker=\"o\"\n",
      "# convert the flight track latitude and longitude to base map coordinates\n",
      "x,y = m(lon,lat)\n",
      "# plot the flight track\n",
      "m.plot(x,y,color=color,mfc=color,mec=color,marker=marker,markersize=4,alpha=0.5)\n",
      "\n",
      "plt.show()"
     ],
     "language": "python",
     "metadata": {},
     "outputs": [],
     "prompt_number": 17
    },
    {
     "cell_type": "code",
     "collapsed": false,
     "input": [
      "len(df3_Target)"
     ],
     "language": "python",
     "metadata": {},
     "outputs": [
      {
       "metadata": {},
       "output_type": "pyout",
       "prompt_number": 39,
       "text": [
        "0"
       ]
      }
     ],
     "prompt_number": 39
    },
    {
     "cell_type": "code",
     "collapsed": false,
     "input": [
      "pd.set_option('display.max_columns', None)\n",
      "pd.set_option('display.max_rows', None)"
     ],
     "language": "python",
     "metadata": {},
     "outputs": [],
     "prompt_number": 58
    },
    {
     "cell_type": "code",
     "collapsed": false,
     "input": [],
     "language": "python",
     "metadata": {},
     "outputs": []
    }
   ],
   "metadata": {}
  }
 ]
}