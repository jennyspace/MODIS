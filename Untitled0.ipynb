{
 "metadata": {
  "name": "",
  "signature": "sha256:4f056a7ebda69f62e90becbae6c49d451a6eed0252f7382b98c53f4a61804cbe"
 },
 "nbformat": 3,
 "nbformat_minor": 0,
 "worksheets": [
  {
   "cells": [
    {
     "cell_type": "code",
     "collapsed": false,
     "input": [
      "\"\"\"\n",
      "Demonstrates similarities between pcolor, pcolormesh, imshow and pcolorfast\n",
      "for drawing quadrilateral grids.\n",
      "\n",
      "\"\"\"\n",
      "import matplotlib.pyplot as plt\n",
      "import numpy as np\n",
      "\n",
      "# make these smaller to increase the resolution\n",
      "dx, dy = 0.15, 0.05\n",
      "\n",
      "# generate 2 2d grids for the x & y bounds\n",
      "y, x = np.mgrid[slice(-3, 3 + dy, dy),\n",
      "                slice(-3, 3 + dx, dx)]\n",
      "z = (1 - x / 2. + x ** 5 + y ** 3) * np.exp(-x ** 2 - y ** 2)\n",
      "# x and y are bounds, so z should be the value *inside* those bounds.\n",
      "# Therefore, remove the last value from the z array.\n",
      "z = z[:-1, :-1]\n",
      "z_min, z_max = -np.abs(z).max(), np.abs(z).max()\n",
      "\n",
      "\n",
      "plt.subplot(2, 2, 1)\n",
      "plt.pcolor(x, y, z, cmap='RdBu', vmin=z_min, vmax=z_max)\n",
      "plt.title('pcolor')\n",
      "# set the limits of the plot to the limits of the data\n",
      "plt.axis([x.min(), x.max(), y.min(), y.max()])\n",
      "plt.colorbar()\n",
      "\n",
      "\n",
      "plt.subplot(2, 2, 2)\n",
      "plt.pcolormesh(x, y, z, cmap='RdBu', vmin=z_min, vmax=z_max)\n",
      "plt.title('pcolormesh')\n",
      "# set the limits of the plot to the limits of the data\n",
      "plt.axis([x.min(), x.max(), y.min(), y.max()])\n",
      "plt.colorbar()\n",
      "\n",
      "\n",
      "plt.subplot(2, 2, 3)\n",
      "plt.imshow(z, cmap='RdBu', vmin=z_min, vmax=z_max,\n",
      "           extent=[x.min(), x.max(), y.min(), y.max()],\n",
      "           interpolation='nearest', origin='lower')\n",
      "plt.title('image (interp. nearest)')\n",
      "plt.colorbar()\n",
      "\n",
      "\n",
      "ax = plt.subplot(2, 2, 4)\n",
      "ax.pcolorfast(x, y, z, cmap='RdBu', vmin=z_min, vmax=z_max)\n",
      "plt.title('pcolorfast')\n",
      "plt.colorbar()\n",
      "\n",
      "\n",
      "plt.show()"
     ],
     "language": "python",
     "metadata": {},
     "outputs": [],
     "prompt_number": 2
    },
    {
     "cell_type": "code",
     "collapsed": false,
     "input": [],
     "language": "python",
     "metadata": {},
     "outputs": []
    }
   ],
   "metadata": {}
  }
 ]
}