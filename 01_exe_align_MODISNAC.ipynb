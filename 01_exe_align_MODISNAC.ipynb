{
 "metadata": {
  "name": "",
  "signature": "sha256:95eeb6326e44ac4d1b6cff0113fbb2adf3c6fddcf1636118fa6c44dbe32f02a6"
 },
 "nbformat": 3,
 "nbformat_minor": 0,
 "worksheets": [
  {
   "cells": [
    {
     "cell_type": "code",
     "collapsed": false,
     "input": [
      "### 29th/Aug/2016 Average reff aligned with AC obs -----------------------------------------------------\n",
      "### How to: \n",
      "### 1) Get data with lat/long where AC flew (for 20 ms) \n",
      "### 2) with those lat/long, get reff data to avg using cell index \n",
      "### 3) How to get cell index: Get lat/long in MOD06 X 5 \n",
      "#lat11 = lat1.where < -43.9389 & lat1.where > -44.5877"
     ],
     "language": "python",
     "metadata": {},
     "outputs": [],
     "prompt_number": 7
    },
    {
     "cell_type": "code",
     "collapsed": false,
     "input": [
      "### Calculate reff of MODIS\n",
      "### Get coordinates from the Coordinates file\n",
      "df_coordinates = pd.read_csv('Coordinates.csv')\n",
      "query1 = 'FDate == '+ FDate\n",
      "df_coordinates = df_coordinates.query(query1)\n",
      "\n",
      "### Read(Get) MODIS data\n",
      "df_MODIS = pd.read_csv('MODIS_reff_'+ FDate + '.csv')\n",
      "\n",
      "lat_max = str(float(df_coordinates['lat_max'])) ### just str doesn't work because df[' ' ] = special type\n",
      "lat_min = str(float(df_coordinates['lat_min']))\n",
      "long_min = str(float(df_coordinates['long_min']))\n",
      "long_max = str(float(df_coordinates['long_max']))\n",
      "\n",
      "query2 = 'lat1 <' + lat_max + ' & lat1 >' + lat_min + '& long1 >'+ long_min+ '& long1 <' + long_max\n",
      "df_MODIS2 = df_MODIS.query(query2)\n",
      "\n",
      "### Create a file having reff\n",
      "df_MODIS2.to_csv('MODIS_reff.csv', mode='w')"
     ],
     "language": "python",
     "metadata": {},
     "outputs": [],
     "prompt_number": 7
    },
    {
     "cell_type": "code",
     "collapsed": false,
     "input": [
      "df_coordinates['lat_max']"
     ],
     "language": "python",
     "metadata": {},
     "outputs": [
      {
       "metadata": {},
       "output_type": "pyout",
       "prompt_number": 12,
       "text": [
        "1   -42.3\n",
        "Name: lat_max, dtype: float64"
       ]
      }
     ],
     "prompt_number": 12
    },
    {
     "cell_type": "code",
     "collapsed": false,
     "input": [
      "import pandas as pd\n",
      "df_MODIS_reff = pd.read_csv('MODIS_reff_CPhase_20130628_130139.csv')\n",
      "df_MODIS_reff[0:10]"
     ],
     "language": "python",
     "metadata": {},
     "outputs": [
      {
       "html": [
        "<div style=\"max-height:1000px;max-width:1500px;overflow:auto;\">\n",
        "<table border=\"1\" class=\"dataframe\">\n",
        "  <thead>\n",
        "    <tr style=\"text-align: right;\">\n",
        "      <th></th>\n",
        "      <th>Unnamed: 0</th>\n",
        "      <th>CPhase</th>\n",
        "      <th>FDate</th>\n",
        "      <th>lat1</th>\n",
        "      <th>long1</th>\n",
        "      <th>reff</th>\n",
        "    </tr>\n",
        "  </thead>\n",
        "  <tbody>\n",
        "    <tr>\n",
        "      <th>0</th>\n",
        "      <td> 0</td>\n",
        "      <td> 0</td>\n",
        "      <td> 20130628_130139</td>\n",
        "      <td>-53.858639</td>\n",
        "      <td> 167.535263</td>\n",
        "      <td>-99.980001</td>\n",
        "    </tr>\n",
        "    <tr>\n",
        "      <th>1</th>\n",
        "      <td> 1</td>\n",
        "      <td> 0</td>\n",
        "      <td> 20130628_130139</td>\n",
        "      <td>-53.881084</td>\n",
        "      <td> 167.469299</td>\n",
        "      <td>-99.980001</td>\n",
        "    </tr>\n",
        "    <tr>\n",
        "      <th>2</th>\n",
        "      <td> 2</td>\n",
        "      <td> 0</td>\n",
        "      <td> 20130628_130139</td>\n",
        "      <td>-53.903316</td>\n",
        "      <td> 167.403778</td>\n",
        "      <td>-99.980001</td>\n",
        "    </tr>\n",
        "    <tr>\n",
        "      <th>3</th>\n",
        "      <td> 3</td>\n",
        "      <td> 0</td>\n",
        "      <td> 20130628_130139</td>\n",
        "      <td>-53.925335</td>\n",
        "      <td> 167.338715</td>\n",
        "      <td>-99.980001</td>\n",
        "    </tr>\n",
        "    <tr>\n",
        "      <th>4</th>\n",
        "      <td> 4</td>\n",
        "      <td> 0</td>\n",
        "      <td> 20130628_130139</td>\n",
        "      <td>-53.947147</td>\n",
        "      <td> 167.274094</td>\n",
        "      <td>-99.980001</td>\n",
        "    </tr>\n",
        "    <tr>\n",
        "      <th>5</th>\n",
        "      <td> 5</td>\n",
        "      <td> 0</td>\n",
        "      <td> 20130628_130139</td>\n",
        "      <td>-53.968758</td>\n",
        "      <td> 167.209915</td>\n",
        "      <td>-99.980001</td>\n",
        "    </tr>\n",
        "    <tr>\n",
        "      <th>6</th>\n",
        "      <td> 6</td>\n",
        "      <td> 0</td>\n",
        "      <td> 20130628_130139</td>\n",
        "      <td>-53.990170</td>\n",
        "      <td> 167.146149</td>\n",
        "      <td>-99.980001</td>\n",
        "    </tr>\n",
        "    <tr>\n",
        "      <th>7</th>\n",
        "      <td> 7</td>\n",
        "      <td> 0</td>\n",
        "      <td> 20130628_130139</td>\n",
        "      <td>-54.011383</td>\n",
        "      <td> 167.082809</td>\n",
        "      <td>-99.980001</td>\n",
        "    </tr>\n",
        "    <tr>\n",
        "      <th>8</th>\n",
        "      <td> 8</td>\n",
        "      <td> 0</td>\n",
        "      <td> 20130628_130139</td>\n",
        "      <td>-54.032402</td>\n",
        "      <td> 167.019897</td>\n",
        "      <td>-99.980001</td>\n",
        "    </tr>\n",
        "    <tr>\n",
        "      <th>9</th>\n",
        "      <td> 9</td>\n",
        "      <td> 0</td>\n",
        "      <td> 20130628_130139</td>\n",
        "      <td>-54.053226</td>\n",
        "      <td> 166.957397</td>\n",
        "      <td>-99.980001</td>\n",
        "    </tr>\n",
        "  </tbody>\n",
        "</table>\n",
        "</div>"
       ],
       "metadata": {},
       "output_type": "pyout",
       "prompt_number": 3,
       "text": [
        "   Unnamed: 0  CPhase            FDate       lat1       long1       reff\n",
        "0           0       0  20130628_130139 -53.858639  167.535263 -99.980001\n",
        "1           1       0  20130628_130139 -53.881084  167.469299 -99.980001\n",
        "2           2       0  20130628_130139 -53.903316  167.403778 -99.980001\n",
        "3           3       0  20130628_130139 -53.925335  167.338715 -99.980001\n",
        "4           4       0  20130628_130139 -53.947147  167.274094 -99.980001\n",
        "5           5       0  20130628_130139 -53.968758  167.209915 -99.980001\n",
        "6           6       0  20130628_130139 -53.990170  167.146149 -99.980001\n",
        "7           7       0  20130628_130139 -54.011383  167.082809 -99.980001\n",
        "8           8       0  20130628_130139 -54.032402  167.019897 -99.980001\n",
        "9           9       0  20130628_130139 -54.053226  166.957397 -99.980001"
       ]
      }
     ],
     "prompt_number": 3
    },
    {
     "cell_type": "code",
     "collapsed": false,
     "input": [
      "len(df_MODIS_reff.query('reff < 0')) ### Question) what does this mean?"
     ],
     "language": "python",
     "metadata": {},
     "outputs": [
      {
       "metadata": {},
       "output_type": "pyout",
       "prompt_number": 9,
       "text": [
        "61074"
       ]
      }
     ],
     "prompt_number": 9
    },
    {
     "cell_type": "code",
     "collapsed": false,
     "input": [
      "print len(df_MODIS_reff.query('reff < 0'))\n",
      "print len(df_MODIS_reff)\n",
      "print np.mean(df_MODIS_reff[df_MODIS_reff['reff'] > 0]) ### 0.26 when extended lat, long by 0.1 degree\n",
      "print len( df_MODIS_reff.query('reff > 0') )"
     ],
     "language": "python",
     "metadata": {},
     "outputs": [
      {
       "output_type": "stream",
       "stream": "stdout",
       "text": [
        "61074\n",
        "71404\n",
        "Unnamed: 0      1407649.630010\n",
        "Unnamed: 0.1        586.592836\n",
        "lat1                -43.545993\n",
        "long1               146.016807\n",
        "reff                 20.965430\n",
        "dtype: float64"
       ]
      },
      {
       "output_type": "stream",
       "stream": "stdout",
       "text": [
        "\n",
        "10330\n"
       ]
      }
     ],
     "prompt_number": 10
    },
    {
     "cell_type": "code",
     "collapsed": false,
     "input": [],
     "language": "python",
     "metadata": {},
     "outputs": []
    },
    {
     "cell_type": "code",
     "collapsed": false,
     "input": [
      "### Exe for concatenate -----------------------------------------\n",
      "### Refer http://pandas.pydata.org/pandas-docs/stable/merging.html -------------------\n",
      "lst_lat1 = list(lat1[0])\n",
      "lst_long1 = list(long1[0])\n",
      "lst_reff = list(data[0])\n",
      "df = pd.DataFrame({'lat1': lst_lat1, 'long1': lst_long1, 'reff': lst_reff}, index=range(len(lst_lat1)) ) \n",
      "\n",
      "lst_lat2 = list(lat1[1])\n",
      "lst_long2 = list(long1[1])\n",
      "lst_reff2 = list(data[1])\n",
      "\n",
      "df2 = pd.DataFrame({'lat1': lst_lat2, 'long1': lst_long2, 'reff': lst_reff2}, index=range(len(lst_lat1)) ) \n",
      "\n",
      "df2 = [ df, df2]\n",
      "df2 = pd.concat(df2)\n",
      "print len(df2)\n",
      "print 1354*2"
     ],
     "language": "python",
     "metadata": {},
     "outputs": [
      {
       "output_type": "stream",
       "stream": "stdout",
       "text": [
        "2708\n",
        "2708\n"
       ]
      }
     ],
     "prompt_number": 144
    },
    {
     "cell_type": "code",
     "collapsed": false,
     "input": [
      "### Practice ------------------------------\n",
      "#print len(lst_lat1 )     # 2030 \n",
      "#print np.shape(lst_lat1) # (2030, 1354)\n",
      "#print type(lst_lat1)     # <type 'list'>\n",
      "# len(df_lat1['lat1'].iloc[0]) # 1354\n",
      "\n",
      "#lst_idx1 = lst_lat1[lst_lat1 < -43.9389].index()"
     ],
     "language": "python",
     "metadata": {},
     "outputs": [],
     "prompt_number": 5
    },
    {
     "cell_type": "code",
     "collapsed": false,
     "input": [
      "lat1[0:]"
     ],
     "language": "python",
     "metadata": {},
     "outputs": [
      {
       "metadata": {},
       "output_type": "pyout",
       "prompt_number": 6,
       "text": [
        "array([[-49.1692543 , -49.18866348, -49.20788574, ..., -54.04235458,\n",
        "        -54.04204941, -54.04169464],\n",
        "       [-49.15268707, -49.17214203, -49.19140625, ..., -54.02392578,\n",
        "        -54.02356339, -54.0231514 ],\n",
        "       [-49.13611603, -49.15561295, -49.17492294, ..., -54.00549698,\n",
        "        -54.00507736, -54.00460815],\n",
        "       ..., \n",
        "       [-32.52060699, -32.53354645, -32.54636002, ..., -36.14809799,\n",
        "        -36.14988327, -36.15166092],\n",
        "       [-32.50307083, -32.51605988, -32.52892685, ..., -36.12985992,\n",
        "        -36.1315918 , -36.13330841],\n",
        "       [-32.48552704, -32.49856949, -32.51148605, ..., -36.11162567,\n",
        "        -36.11329651, -36.11495972]], dtype=float32)"
       ]
      }
     ],
     "prompt_number": 6
    }
   ],
   "metadata": {}
  }
 ]
}