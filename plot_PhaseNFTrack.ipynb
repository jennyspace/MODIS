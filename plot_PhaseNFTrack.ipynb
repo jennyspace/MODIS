{
 "metadata": {
  "name": "",
  "signature": "sha256:448e01a06fcef54229b44f5a3522e291a3150bde60799d8d43974456c361a76f"
 },
 "nbformat": 3,
 "nbformat_minor": 0,
 "worksheets": [
  {
   "cells": [
    {
     "cell_type": "code",
     "collapsed": false,
     "input": [
      "### 29/08/2016 Display the reff on the basemap ---------------------------------"
     ],
     "language": "python",
     "metadata": {},
     "outputs": []
    },
    {
     "cell_type": "code",
     "collapsed": false,
     "input": [
      "from pyhdf.SD import SD\n",
      "\n",
      "from scipy import array\n",
      "import numpy as np\n",
      "\n",
      "\n",
      "### for 20150830\n",
      "### file location should be correct otherwise will get SD error msg\n",
      "filename = \"./20150830/Reff/MYD06_L2.A2015242.0425.006.2015243234239.hdf\"  \n",
      "filename2 = \"./20150830/Reff/MYD03.A2015242.0425.006.2015243130645.hdf\"\n",
      "f_date=\"20150830\"\n",
      "\n",
      "### read a file\n",
      "f1=SD(filename)\n",
      "f2=SD(filename2)\n",
      "\n",
      "#data=array(f1.select('Cloud_Effective_Radius').get()) * 0.009999 ### this works, 20130723\n",
      "#data=array(f1.select('Cloud_Top_Temperature').get())\n",
      "data=array(f1.select('Cloud_Phase_Optical_Properties').get())\n",
      "\n",
      "#ctt1 = (ctp1 - ctp1@radiance_offsets(2)) * ctp1@radiance_scales(2)\n",
      "#data=array(f) ### this doesn't work\n",
      "#data[data<0]=0\n",
      "\n",
      "lat1 = array(f2.select('Latitude').get())\n",
      "long1 = array(f2.select('Longitude').get())\n"
     ],
     "language": "python",
     "metadata": {},
     "outputs": [],
     "prompt_number": 60
    },
    {
     "cell_type": "code",
     "collapsed": false,
     "input": [
      "### Plot reff to a basemap ------------------------------------------------\n",
      "from mpl_toolkits.basemap import Basemap, cm\n",
      "import numpy as np\n",
      "import netCDF4\n",
      "import matplotlib.pyplot as plt\n",
      "from pylab import imshow,colorbar,title,savefig\n",
      "import matplotlib as mpl\n",
      "\n",
      "fig=plt.figure(num=1,figsize=(16,10))\n",
      "#fig = plt.figure(dpi=300)\n",
      "\n",
      "### Plot a basemap ---------------------------------------------------------------------------------------------\n",
      "latcorners = ([-46,-41.5])\n",
      "loncorners = ([144.5,148.5])\n",
      "\n",
      "m = Basemap(projection='cyl',llcrnrlat=latcorners[0],urcrnrlat=latcorners[1],\\\n",
      "            llcrnrlon=loncorners[0],urcrnrlon=loncorners[1],\\\n",
      "            resolution = 'i')  ### 1: intermediate\n",
      "# Draw coastlines, state and country boundaries, edge of map.\n",
      "m.drawcoastlines()\n",
      "m.drawstates()\n",
      "m.drawcountries()\n",
      "parallels = np.arange(-46.,-41.5,.5)\n",
      "m.drawparallels(parallels,labels=[True,False,True,False])\n",
      "meridians = np.arange(144.5,148.5,.5)\n",
      "m.drawmeridians(meridians,labels=[False,False,False,True])\n",
      "\n",
      "# Draw filled contours.\n",
      "#clevs = np.arange(0,5,1)   ### This should be the range of parameters, for 0-4, it should be (-1,5,1), but here there is no \n",
      "                           ### undetermined data, so it used (0,5,1)\n",
      "clevs = np.arange(0.5,5.5,1) \n",
      "# Mask the values less than 0 because there is no data to plot.\n",
      "#masked_array = np.ma.masked_where(PTWC156 < 0,PTWC156)\n",
      "\n",
      "# Plot every masked value as white for phase-------------------------------\n",
      "#cmap = cm.GMT_drywet\n",
      "cmap = plt.cm.gist_earth ### this colorline looks better\n",
      "#cmap.set_bad('w',1.) #set_bad(color='k', alpha=None), Set color to be used for masked values.\n",
      "\n",
      "cs = m.contourf(long1,lat1,data,clevs,cmap=cmap,latlon=True)\n",
      "#cs = m.contourf(long1,lat1,data,clevs,cmap=cmap,vmin =0.0, vmax=4.0, latlon=True)\n",
      "\n",
      "# Add colorbar ------------------------------------\n",
      "#cbar = m.colorbar(cs,location='right',ticks=[0.5, 1.5, 2.5, 3.5], pad=\"5%\") ### this should be co-related to clevs values\n",
      "cbar = m.colorbar(cs,location='right',ticks=[1, 2, 3, 4], pad=\"5%\") ### this should be co-related to clevs values\n",
      "cbar.set_ticklabels([ 'clear sky', 'Liquid', 'Ice', 'Undetermined \\n Cloud Phase'])\n",
      "\n",
      "# Set the title and fonts\n",
      "plt.title('MODIS Cloud Phase Optical Properties (CPOP)')\n",
      "font = {'weight' : 'bold', 'size' : 12}\n",
      "plt.rc('font', **font)\n",
      "#plt.savefig('testIMERGmap.png',dpi=200)\n",
      "plt.show()"
     ],
     "language": "python",
     "metadata": {},
     "outputs": [
      {
       "output_type": "stream",
       "stream": "stdout",
       "text": [
        "WARNING: x coordinate not montonically increasing - contour plot\n",
        "may not be what you expect.  If it looks odd, your can either\n",
        "adjust the map projection region to be consistent with your data, or\n",
        "(if your data is on a global lat/lon grid) use the shiftgrid\n",
        "function to adjust the data to be consistent with the map projection\n",
        "region (see examples/contour_demo.py)."
       ]
      }
     ],
     "prompt_number": 95
    },
    {
     "cell_type": "code",
     "collapsed": false,
     "input": [
      "# reff of MODIS: http://modis.gsfc.nasa.gov/sci_team/meetings/201304/presentations/atmos/digirolamo.pdf"
     ],
     "language": "python",
     "metadata": {},
     "outputs": []
    },
    {
     "cell_type": "code",
     "collapsed": false,
     "input": [
      "### Adding Flight tracks\n"
     ],
     "language": "python",
     "metadata": {},
     "outputs": []
    }
   ],
   "metadata": {}
  }
 ]
}