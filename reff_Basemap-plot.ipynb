{
 "metadata": {
  "name": "",
  "signature": "sha256:5800770d8769f5cc481655ab20ffb134269a8b3254880c3649366c4700db2568"
 },
 "nbformat": 3,
 "nbformat_minor": 0,
 "worksheets": [
  {
   "cells": [
    {
     "cell_type": "code",
     "collapsed": false,
     "input": [
      "### 29/08/2016 Display the reff on the basemap ---------------------------------"
     ],
     "language": "python",
     "metadata": {},
     "outputs": []
    },
    {
     "cell_type": "code",
     "collapsed": false,
     "input": [
      "from numpy import *\n",
      "from pyhdf.SD import SD\n",
      "\n",
      "from scipy import array\n",
      "import numpy as np\n",
      "import pandas as pd\n",
      "\n",
      "from pylab import imshow,colorbar,title,savefig\n",
      "import matplotlib.pyplot as plt\n",
      "from mpl_toolkits.basemap import Basemap\n",
      "\n",
      "### for 20150830\n",
      "### file location should be correct otherwise will get SD error msg\n",
      "filename = \"../MODIS/20150830/Reff/MYD06_L2.A2015242.0425.006.2015243234239.hdf\"  \n",
      "filename2 = \"../MODIS/20150830/Reff/MYD03.A2015242.0425.006.2015243130645.hdf\"\n",
      "f_date=\"20150830\"\n",
      "\n",
      "### read a file\n",
      "f=SD(filename)\n",
      "f2=SD(filename2)\n",
      "\n",
      "data=array(f.select('Cloud_Effective_Radius').get()) * 0.009999 ### this works, 20130723\n",
      "#data=array(f.select('Cloud_Top_Temperature').get())\n",
      "\n",
      "#ctt1 = (ctp1 - ctp1@radiance_offsets(2)) * ctp1@radiance_scales(2)\n",
      "#data=array(f) ### this doesn't work\n",
      "#data[data<0]=0\n",
      "\n",
      "lat1 = array(f2.select('Latitude').get())\n",
      "long1 = array(f2.select('Longitude').get())\n"
     ],
     "language": "python",
     "metadata": {},
     "outputs": [],
     "prompt_number": 4
    },
    {
     "cell_type": "code",
     "collapsed": false,
     "input": [
      "print np.shape(long1)\n",
      "#print np.shape(x)\n",
      "print np.shape(data)"
     ],
     "language": "python",
     "metadata": {},
     "outputs": [
      {
       "output_type": "stream",
       "stream": "stdout",
       "text": [
        "(2030, 1354)\n",
        "(2030, 1354)\n"
       ]
      }
     ],
     "prompt_number": 3
    },
    {
     "cell_type": "code",
     "collapsed": false,
     "input": [
      "### Plot reff to a basemap ------------------------------------------------\n",
      "from mpl_toolkits.basemap import Basemap, cm\n",
      "import numpy as np\n",
      "import matplotlib.pyplot as plt\n",
      "\n",
      "fig=plt.figure(num=1,figsize=(16,10))\n",
      "\n",
      "theLats= lat1\n",
      "theLons = long1\n",
      "\n",
      "#fig = plt.figure(dpi=300)\n",
      "\n",
      "latcorners = ([-45,-43])\n",
      "loncorners = ([145.5,147.5])\n",
      "#latcorners = ([-40,-46])\n",
      "#loncorners = ([143,150])\n",
      "\n",
      "m = Basemap(projection='cyl',llcrnrlat=latcorners[0],urcrnrlat=latcorners[1],\\\n",
      "            llcrnrlon=loncorners[0],urcrnrlon=loncorners[1],\\\n",
      "            resolution = 'i')\n",
      "# Draw coastlines, state and country boundaries, edge of map.\n",
      "m.drawcoastlines()\n",
      "m.drawstates()\n",
      "m.drawcountries()\n",
      "\n",
      "# Draw filled contours.\n",
      "clevs = np.arange(0,40,10)\n",
      "# Define the latitude and longitude data\n",
      "#x, y = np.float32(np.meshgrid(theLons, theLats))\n",
      "# Mask the values less than 0 because there is no data to plot.\n",
      "#masked_array = np.ma.masked_where(PTWC156 < 0,PTWC156)\n",
      "\n",
      "# Plot every masked value as white\n",
      "cmap = cm.GMT_drywet\n",
      "cmap.set_bad('w',1.) # set_bad(color='k', alpha=None), Set color to be used for masked values.\n",
      "\n",
      "# Plot the data\n",
      "# make PTWC156 as basemap coordinations\n",
      "#data, data = np.float32(np.meshgrid(PTWC156, PTWC156))\n",
      "cs = m.contourf(long1,lat1,data,clevs,cmap=cmap,latlon=True)\n",
      "parallels = np.arange(-45.,-43,.5)\n",
      "m.drawparallels(parallels,labels=[True,False,True,False])\n",
      "meridians = np.arange(145.,147.,5.)\n",
      "m.drawmeridians(meridians,labels=[False,False,False,True])\n",
      "\n",
      "# Set the title and fonts\n",
      "plt.title('LWC')\n",
      "font = {'weight' : 'bold', 'size' : 6}\n",
      "plt.rc('font', **font)\n",
      "\n",
      "# Add colorbar\n",
      "cbar = m.colorbar(cs,location='right',pad=\"5%\")\n",
      "cbar.set_label('reff')\n",
      "#plt.savefig('testIMERGmap.png',dpi=200)\n",
      "plt.show()\n"
     ],
     "language": "python",
     "metadata": {},
     "outputs": [
      {
       "output_type": "stream",
       "stream": "stdout",
       "text": [
        "WARNING: x coordinate not montonically increasing - contour plot\n",
        "may not be what you expect.  If it looks odd, your can either\n",
        "adjust the map projection region to be consistent with your data, or\n",
        "(if your data is on a global lat/lon grid) use the shiftgrid\n",
        "function to adjust the data to be consistent with the map projection\n",
        "region (see examples/contour_demo.py)."
       ]
      }
     ],
     "prompt_number": 13
    },
    {
     "cell_type": "code",
     "collapsed": false,
     "input": [
      "# reff of MODIS: http://modis.gsfc.nasa.gov/sci_team/meetings/201304/presentations/atmos/digirolamo.pdf"
     ],
     "language": "python",
     "metadata": {},
     "outputs": []
    },
    {
     "cell_type": "code",
     "collapsed": false,
     "input": [
      "clevs = np.arange(0,40,10)"
     ],
     "language": "python",
     "metadata": {},
     "outputs": [],
     "prompt_number": 6
    },
    {
     "cell_type": "code",
     "collapsed": false,
     "input": [
      "type(cmap )"
     ],
     "language": "python",
     "metadata": {},
     "outputs": [
      {
       "metadata": {},
       "output_type": "pyout",
       "prompt_number": 8,
       "text": [
        "matplotlib.colors.LinearSegmentedColormap"
       ]
      }
     ],
     "prompt_number": 8
    },
    {
     "cell_type": "code",
     "collapsed": false,
     "input": [],
     "language": "python",
     "metadata": {},
     "outputs": []
    }
   ],
   "metadata": {}
  }
 ]
}