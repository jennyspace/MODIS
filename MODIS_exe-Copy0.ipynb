{
 "metadata": {
  "name": "",
  "signature": "sha256:63a90a04391be083cff97a9e5a39ca023ed5825818b17760a3b9258df221d55d"
 },
 "nbformat": 3,
 "nbformat_minor": 0,
 "worksheets": [
  {
   "cells": [
    {
     "cell_type": "code",
     "collapsed": false,
     "input": [
      "'''--- web site ---'''\n",
      "# https://wiki.zmaw.de/lehre/Python/Lesson4\n",
      "# http://www.science-emergence.com/AnalyseDeDonneesSatellite/ModisL2Plots/#modis-l2-cloud-top-pressure\n",
      "# SD: http://pysclint.sourceforge.net/pyhdf/pyhdf.SD.html\n",
      "# MODIS images: https://lance.modaps.eosdis.nasa.gov/cgi-bin/imagery/realtime.cgi\n",
      "# plotting image(jpg) file"
     ],
     "language": "python",
     "metadata": {},
     "outputs": [
      {
       "metadata": {},
       "output_type": "pyout",
       "prompt_number": 1,
       "text": [
        "'--- web site ---'"
       ]
      }
     ],
     "prompt_number": 1
    },
    {
     "cell_type": "code",
     "collapsed": false,
     "input": [
      "from numpy import *\n",
      "from pyhdf.SD import *\n",
      "\n",
      "from scipy import array\n",
      "import numpy as np\n",
      "\n",
      "from pylab import imshow,colorbar,title,savefig\n",
      "import matplotlib.pyplot as plt\n",
      "from mpl_toolkits.basemap import Basemap"
     ],
     "language": "python",
     "metadata": {},
     "outputs": [],
     "prompt_number": 2
    },
    {
     "cell_type": "code",
     "collapsed": false,
     "input": [
      "### for 20130723\n",
      "filename = \"MYD021KM.A2013204.0425.005.2013205024539.hdf\"  ### for 20130723 images\n",
      "filename2 = \"MYD03.A2013204.0425.005.2013205023556.hdf\"\n",
      "f_date=\"20130723\"\n",
      "\n",
      "### for 20151001\n",
      "#filename = \"MYD021KM.A2015274.0425.006.2015274160411.hdf\" ### for 20151001 images\n",
      "#filename2 = \"MYD03.A2015274.0425.005.2015274154432.hdf\" ### for coordination\n",
      "#f_data=\"20151001\"\n",
      "\n",
      "### ??\n",
      "#filename = \"MYD02HKM.A2015274.0425.006.2015274160411.hdf\" ### \n",
      "#filename = \"MYD02HKM.A2015242.0425.005.2015243151829.hdf\"\n",
      "\n",
      "#ds=SD(filename,SDC.READ|SDC.CREATE) ### No need to do this\n",
      "#ds2=SD(filename2,SDC.READ|SDC.CREATE)\n",
      "\n",
      "### read a file\n",
      "f=SD(filename)\n",
      "f2=SD(filename2)\n",
      "print f.datasets().keys()\n",
      "#print f2.datasets().keys()"
     ],
     "language": "python",
     "metadata": {},
     "outputs": [
      {
       "output_type": "stream",
       "stream": "stdout",
       "text": [
        "['gflags', 'Band_1KM_RefSB', 'EV_1KM_RefSB', 'Noise in Thermal Detectors', 'DC Restore Change for Thermal Bands', 'EV_250_Aggr1km_RefSB_Uncert_Indexes', 'EV_250_Aggr1km_RefSB_Samples_Used', 'EV_Band26', 'SolarAzimuth', 'SensorZenith', 'Latitude', 'EV_250_Aggr1km_RefSB', 'Change in relative responses of thermal detectors', 'EV_1KM_RefSB_Uncert_Indexes', 'DC Restore Change for Reflective 250m Bands', 'SolarZenith', 'Band_500M', 'EV_500_Aggr1km_RefSB', 'DC Restore Change for Reflective 500m Bands', 'SensorAzimuth', 'Band_1KM_Emissive', 'Longitude', 'Band_250M', 'Range', 'EV_500_Aggr1km_RefSB_Samples_Used', 'EV_Band26_Uncert_Indexes', 'DC Restore Change for Reflective 1km Bands', 'EV_1KM_Emissive', 'EV_1KM_Emissive_Uncert_Indexes', 'Height', 'EV_500_Aggr1km_RefSB_Uncert_Indexes']\n"
       ]
      }
     ],
     "prompt_number": 3
    },
    {
     "cell_type": "code",
     "collapsed": false,
     "input": [
      "# -*- coding: utf-8 -*-\n",
      "fig = plt.figure() ### this one need to be HERE\n",
      "ax = fig.add_axes([0.1, 0.1, 0.8, 0.8])\n",
      "\n",
      "# setup map extent (limits)\n",
      "# [minLon, maxLon, minLat, maxLat]\n",
      "extent = [140, 150, -50, -40]\n",
      "#extent = [145, 147, -45, -43]\n",
      "bm = Basemap(llcrnrlon=extent[0], llcrnrlat=extent[2],\n",
      "             urcrnrlon=extent[1], urcrnrlat=extent[3],\n",
      "              resolution='i', fix_aspect=False, ax=ax)\n",
      "#projection='cyl',\n",
      "\n",
      "# Add Coastlines and Country Boundaries\n",
      "bm.drawcoastlines(linewidth=0.5, zorder=5)\n",
      "bm.drawcountries(linewidth=0.5, zorder=5)\n",
      "bm.drawmapboundary(linewidth=0.5, zorder=10)\n",
      "# Add gridlines\n",
      "lon_step = 1.\n",
      "lat_step = 1.\n",
      "# labes = [left,right,top,bottom]\n",
      "bm.drawmeridians(np.arange(0., 420., lon_step),\n",
      "                 labels=[False, False, False, True],\n",
      "                 color='k',\n",
      "                 dashes=[1, 2])\n",
      "bm.drawparallels(np.arange(-90., 120., lat_step),\n",
      "                 labels=[True, False, False, False],\n",
      "                 color='k',\n",
      "                 dashes=[1, 2])"
     ],
     "language": "python",
     "metadata": {},
     "outputs": [
      {
       "metadata": {},
       "output_type": "pyout",
       "prompt_number": 8,
       "text": [
        "{-50.0: ([<matplotlib.lines.Line2D at 0x448cb10>],\n",
        "  [<matplotlib.text.Text at 0x44c6890>]),\n",
        " -49.0: ([<matplotlib.lines.Line2D at 0x4498fd0>],\n",
        "  [<matplotlib.text.Text at 0x44c6d50>]),\n",
        " -48.0: ([<matplotlib.lines.Line2D at 0x44a1690>],\n",
        "  [<matplotlib.text.Text at 0x44ad1d0>]),\n",
        " -47.0: ([<matplotlib.lines.Line2D at 0x44a1c50>],\n",
        "  [<matplotlib.text.Text at 0x44ad610>]),\n",
        " -46.0: ([<matplotlib.lines.Line2D at 0x44b1250>],\n",
        "  [<matplotlib.text.Text at 0x44ada50>]),\n",
        " -45.0: ([<matplotlib.lines.Line2D at 0x44b1810>],\n",
        "  [<matplotlib.text.Text at 0x44ade90>]),\n",
        " -44.0: ([<matplotlib.lines.Line2D at 0x31cfe10>],\n",
        "  [<matplotlib.text.Text at 0x44b8310>]),\n",
        " -43.0: ([<matplotlib.lines.Line2D at 0x430ec90>],\n",
        "  [<matplotlib.text.Text at 0x44b8750>]),\n",
        " -42.0: ([<matplotlib.lines.Line2D at 0x430f410>],\n",
        "  [<matplotlib.text.Text at 0x44b8b90>]),\n",
        " -41.0: ([<matplotlib.lines.Line2D at 0x44b1d90>],\n",
        "  [<matplotlib.text.Text at 0x44b8fd0>]),\n",
        " -40.0: ([<matplotlib.lines.Line2D at 0x44c6390>],\n",
        "  [<matplotlib.text.Text at 0x44bf450>])}"
       ]
      }
     ],
     "prompt_number": 8
    },
    {
     "cell_type": "code",
     "collapsed": false,
     "input": [
      "data=array(f.select('EV_500_Aggr1km_RefSB').get()) ### this works, 20130723\n",
      "#data = (data * 0.01883)\n",
      "#data = (data * 0.000496)\n",
      "\n",
      "lat1 = array(f2.select('Latitude').get())\n",
      "long1 = array(f2.select('Longitude').get())\n",
      "\n",
      "#lat1 = array(f.select('Latitude').get()) ### this doesn't work because the lattitudes are coarser than the data\n",
      "#long1 = array(f.select('Longitude').get())\n",
      "print data.shape\n",
      "print lat1.shape\n",
      "print long1.shape"
     ],
     "language": "python",
     "metadata": {},
     "outputs": [
      {
       "output_type": "stream",
       "stream": "stdout",
       "text": [
        "(5, 2030, 1354)\n",
        "(2030, 1354)\n",
        "(2030, 1354)\n"
       ]
      }
     ],
     "prompt_number": 9
    },
    {
     "cell_type": "code",
     "collapsed": false,
     "input": [
      "\n",
      "#plt.figure(1)\n",
      "\n",
      "#plt.imshow(data[0,:,:], cmap=plt.cm.Greys, vmin=1000, vmax=6000)\n",
      "\n",
      "img = bm.pcolormesh(long1, lat1, data[0,:,:], cmap=plt.cm.Greys, vmin=1000., vmax=6000.,ax=ax) ### this one worked!\n",
      "#img = bm.pcolormesh(long1, lat1, data[0,:,:], cmap=plt.cm.Greys, vmin=0., vmax=8.,ax=ax) ### this one worked!\n",
      "#plt.pcolormesh()\n",
      "\n",
      "#bm.colorbar(data[0,:,:], mappable=None, location='right', size='5%', pad='2%', fig=None, ax=None)\n",
      "#cbar = m.colorbar(img, cmap=cmap, norm=norm, boundaries=bounds, ticks=[2.5,3.5,4.5])\n",
      "cbar = bm.colorbar(img)\n",
      "#img = m.imshow(z.T, origin='lower', vmin =2.0, vmax=5.0, cmap=cmap )\n",
      "#cbar.ax.set_yticklabels([ 'Liquid', 'Ice', 'Undetermined \\n Cloud Phase'], fontsize=10)\n",
      "\n",
      "#plt.imshow(data[0,:,:], cmap=plt.cm.Greys)\n",
      "#plt.imshow(data, interpolation='nearest')\n",
      "#plt.grid(True)\n",
      "plt.show() ### working\n",
      "#fig.savefig(f_date+'.png', dpi=600.) ## working\n"
     ],
     "language": "python",
     "metadata": {},
     "outputs": [],
     "prompt_number": 10
    },
    {
     "cell_type": "code",
     "collapsed": false,
     "input": [],
     "language": "python",
     "metadata": {},
     "outputs": []
    }
   ],
   "metadata": {}
  }
 ]
}