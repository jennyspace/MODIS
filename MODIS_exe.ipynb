{
 "metadata": {
  "name": "",
  "signature": "sha256:c9be70790198cf54a3461bd102f54aab2bf05a6abf6b9830629f2968b912f095"
 },
 "nbformat": 3,
 "nbformat_minor": 0,
 "worksheets": [
  {
   "cells": [
    {
     "cell_type": "code",
     "collapsed": false,
     "input": [
      "'''--- web site ---'''\n",
      "# https://wiki.zmaw.de/lehre/Python/Lesson4\n",
      "# http://www.science-emergence.com/AnalyseDeDonneesSatellite/ModisL2Plots/#modis-l2-cloud-top-pressure\n",
      "# SD: http://pysclint.sourceforge.net/pyhdf/pyhdf.SD.html\n",
      "# MODIS images: https://lance.modaps.eosdis.nasa.gov/cgi-bin/imagery/realtime.cgi\n",
      "# plotting image(jpg) file"
     ],
     "language": "python",
     "metadata": {},
     "outputs": [
      {
       "metadata": {},
       "output_type": "pyout",
       "prompt_number": 6,
       "text": [
        "'--- web site ---'"
       ]
      }
     ],
     "prompt_number": 6
    },
    {
     "cell_type": "code",
     "collapsed": false,
     "input": [
      "from numpy import *\n",
      "from pyhdf.SD import SD\n",
      "\n",
      "from scipy import array\n",
      "import numpy as np\n",
      "\n",
      "from pylab import imshow,colorbar,title,savefig\n",
      "import matplotlib.pyplot as plt\n",
      "from mpl_toolkits.basemap import Basemap"
     ],
     "language": "python",
     "metadata": {},
     "outputs": [],
     "prompt_number": 1
    },
    {
     "cell_type": "code",
     "collapsed": false,
     "input": [
      "### for 20130723\n",
      "### file location should be correct otherwise will get SD error msg\n",
      "filename = \"./20130723/Infrared/MYD021KM.A2013204.0425.005.2013205024539.hdf\"  ### for 20130723 images\n",
      "filename2 = \"./20130723/Geolocation/MYD03.A2013204.0425.005.2013205023556.hdf\"\n",
      "f_date=\"20130723\"\n",
      "\n",
      "### for 20151001\n",
      "#filename = \"MYD021KM.A2015274.0425.006.2015274160411.hdf\" ### for 20151001 images\n",
      "#filename2 = \"MYD03.A2015274.0425.005.2015274154432.hdf\" ### for coordination\n",
      "#f_data=\"20151001\"\n",
      "\n",
      "### for 20150830\n",
      "#filename = \"MYD02HKM.A2015274.0425.006.2015274160411.hdf\" ### \n",
      "#filename = \"MYD02HKM.A2015242.0425.005.2015243151829.hdf\"\n",
      "\n",
      "#ds=SD(filename,SDC.READ|SDC.CREATE) ### No need to do this\n",
      "#ds2=SD(filename2,SDC.READ|SDC.CREATE)\n",
      "\n",
      "### read a file\n",
      "f=SD(filename)\n",
      "f2=SD(filename2)\n",
      "#print f.datasets().keys()\n",
      "#print f2.datasets().keys()"
     ],
     "language": "python",
     "metadata": {},
     "outputs": [],
     "prompt_number": 2
    },
    {
     "cell_type": "code",
     "collapsed": false,
     "input": [
      "# -*- coding: utf-8 -*-\n",
      "fig = plt.figure() ### this one need to be HERE\n",
      "ax = fig.add_axes([0.1, 0.1, 0.8, 0.8])\n",
      "\n",
      "# setup map extent (limits)\n",
      "# [minLon, maxLon, minLat, maxLat]\n",
      "extent = [140, 150, -50, -40]\n",
      "#extent = [145, 147, -45, -43]\n",
      "bm = Basemap(llcrnrlon=extent[0], llcrnrlat=extent[2],\n",
      "             urcrnrlon=extent[1], urcrnrlat=extent[3],\n",
      "              resolution='i', fix_aspect=False, ax=ax)\n",
      "#projection='cyl',\n",
      "\n",
      "# Add Coastlines and Country Boundaries\n",
      "bm.drawcoastlines(linewidth=0.5, zorder=5)\n",
      "bm.drawcountries(linewidth=0.5, zorder=5)\n",
      "bm.drawmapboundary(linewidth=0.5, zorder=10)\n",
      "# Add gridlines\n",
      "lon_step = 1.\n",
      "lat_step = 1.\n",
      "# labes = [left,right,top,bottom]\n",
      "bm.drawmeridians(np.arange(0., 420., lon_step),\n",
      "                 labels=[False, False, False, True],\n",
      "                 color='k',\n",
      "                 dashes=[1, 2])\n",
      "bm.drawparallels(np.arange(-90., 120., lat_step),\n",
      "                 labels=[True, False, False, False],\n",
      "                 color='k',\n",
      "                 dashes=[1, 2])"
     ],
     "language": "python",
     "metadata": {},
     "outputs": [
      {
       "metadata": {},
       "output_type": "pyout",
       "prompt_number": 3,
       "text": [
        "{-50.0: ([<matplotlib.lines.Line2D at 0x36bb350>],\n",
        "  [<matplotlib.text.Text at 0x36d6290>]),\n",
        " -49.0: ([<matplotlib.lines.Line2D at 0x36c88d0>],\n",
        "  [<matplotlib.text.Text at 0x36d6750>]),\n",
        " -48.0: ([<matplotlib.lines.Line2D at 0x36c8e90>],\n",
        "  [<matplotlib.text.Text at 0x36d6b90>]),\n",
        " -47.0: ([<matplotlib.lines.Line2D at 0x36cc490>],\n",
        "  [<matplotlib.text.Text at 0x36d6fd0>]),\n",
        " -46.0: ([<matplotlib.lines.Line2D at 0x36cca50>],\n",
        "  [<matplotlib.text.Text at 0x36e0450>]),\n",
        " -45.0: ([<matplotlib.lines.Line2D at 0x36ccf50>],\n",
        "  [<matplotlib.text.Text at 0x36e0890>]),\n",
        " -44.0: ([<matplotlib.lines.Line2D at 0x36cf610>],\n",
        "  [<matplotlib.text.Text at 0x36e0cd0>]),\n",
        " -43.0: ([<matplotlib.lines.Line2D at 0x36cfbd0>],\n",
        "  [<matplotlib.text.Text at 0x3e37150>]),\n",
        " -42.0: ([<matplotlib.lines.Line2D at 0x36d31d0>],\n",
        "  [<matplotlib.text.Text at 0x3e37590>]),\n",
        " -41.0: ([<matplotlib.lines.Line2D at 0x36d3790>],\n",
        "  [<matplotlib.text.Text at 0x3e379d0>]),\n",
        " -40.0: ([<matplotlib.lines.Line2D at 0x36d3d50>],\n",
        "  [<matplotlib.text.Text at 0x3e37e10>])}"
       ]
      }
     ],
     "prompt_number": 3
    },
    {
     "cell_type": "code",
     "collapsed": false,
     "input": [
      "\n",
      "#data=array(f.select('EV_250_Aggr500_RefSB').get())  ## NO! no!\n",
      "data=array(f.select('EV_500_Aggr1km_RefSB').get()) ### this works, 20130723\n",
      "#data=array(f.select('Cloud_Top_Temperature').get())\n",
      "\n",
      "#ctt1 = (ctp1 - ctp1@radiance_offsets(2)) * ctp1@radiance_scales(2)\n",
      "#data=array(f) ### this doesn't work\n",
      "#data[data<0]=0\n",
      "\n",
      "lat1 = array(f2.select('Latitude').get())\n",
      "long1 = array(f2.select('Longitude').get())\n",
      "\n",
      "#lat1 = array(f.select('Latitude').get()) ### this doesn't work because the lattitudes are coarser than the data\n",
      "#long1 = array(f.select('Longitude').get())\n",
      "print data.shape\n",
      "print lat1.shape\n",
      "print long1.shape"
     ],
     "language": "python",
     "metadata": {},
     "outputs": [
      {
       "output_type": "stream",
       "stream": "stdout",
       "text": [
        "(5, 2030, 1354)\n",
        "(2030, 1354)\n",
        "(2030, 1354)\n"
       ]
      }
     ],
     "prompt_number": 4
    },
    {
     "cell_type": "code",
     "collapsed": false,
     "input": [
      "\n",
      "#plt.figure(1)\n",
      "\n",
      "#plt.imshow(data[0,:,:], cmap=plt.cm.Greys, vmin=1000, vmax=6000)\n",
      "\n",
      "bm.pcolormesh(long1, lat1, data[0,:,:], cmap=plt.cm.Greys, vmin=1000., vmax=6000.,ax=ax) ### this one worked!\n",
      "#plt.pcolormesh()\n",
      "\n",
      "\n",
      "#plt.imshow(data[0,:,:], cmap=plt.cm.Greys)\n",
      "#plt.imshow(data, interpolation='nearest')\n",
      "#plt.grid(True)\n",
      "\n",
      "\n",
      "plt.show() ### working\n",
      "#fig.savefig(f_date+'.png', dpi=600.) ## working\n"
     ],
     "language": "python",
     "metadata": {},
     "outputs": [
      {
       "ename": "RuntimeError",
       "evalue": "No mappable was found to use for colorbar creation. First define a mappable such as an image (with imshow) or a contour set (with contourf).",
       "output_type": "pyerr",
       "traceback": [
        "\u001b[1;31m---------------------------------------------------------------------------\u001b[0m\n\u001b[1;31mRuntimeError\u001b[0m                              Traceback (most recent call last)",
        "\u001b[1;32m<ipython-input-6-3137c9d9f16d>\u001b[0m in \u001b[0;36m<module>\u001b[1;34m()\u001b[0m\n\u001b[0;32m     12\u001b[0m \u001b[1;31m#plt.grid(True)\u001b[0m\u001b[1;33m\u001b[0m\u001b[1;33m\u001b[0m\u001b[0m\n\u001b[0;32m     13\u001b[0m \u001b[1;33m\u001b[0m\u001b[0m\n\u001b[1;32m---> 14\u001b[1;33m \u001b[0mcolorbar\u001b[0m\u001b[1;33m(\u001b[0m\u001b[0mshrink\u001b[0m\u001b[1;33m=\u001b[0m\u001b[1;36m0.5\u001b[0m\u001b[1;33m)\u001b[0m\u001b[1;33m\u001b[0m\u001b[0m\n\u001b[0m\u001b[0;32m     15\u001b[0m \u001b[0mplt\u001b[0m\u001b[1;33m.\u001b[0m\u001b[0mshow\u001b[0m\u001b[1;33m(\u001b[0m\u001b[1;33m)\u001b[0m \u001b[1;31m### working\u001b[0m\u001b[1;33m\u001b[0m\u001b[0m\n\u001b[0;32m     16\u001b[0m \u001b[1;31m#fig.savefig(f_date+'.png', dpi=600.) ## working\u001b[0m\u001b[1;33m\u001b[0m\u001b[1;33m\u001b[0m\u001b[0m\n",
        "\u001b[1;32m/home/eunmia/Enthought/Canopy_64bit/User/lib/python2.7/site-packages/matplotlib/pyplot.pyc\u001b[0m in \u001b[0;36mcolorbar\u001b[1;34m(mappable, cax, ax, **kw)\u001b[0m\n\u001b[0;32m   2112\u001b[0m         \u001b[0mmappable\u001b[0m \u001b[1;33m=\u001b[0m \u001b[0mgci\u001b[0m\u001b[1;33m(\u001b[0m\u001b[1;33m)\u001b[0m\u001b[1;33m\u001b[0m\u001b[0m\n\u001b[0;32m   2113\u001b[0m         \u001b[1;32mif\u001b[0m \u001b[0mmappable\u001b[0m \u001b[1;32mis\u001b[0m \u001b[0mNone\u001b[0m\u001b[1;33m:\u001b[0m\u001b[1;33m\u001b[0m\u001b[0m\n\u001b[1;32m-> 2114\u001b[1;33m             raise RuntimeError('No mappable was found to use for colorbar '\n\u001b[0m\u001b[0;32m   2115\u001b[0m                                \u001b[1;34m'creation. First define a mappable such as '\u001b[0m\u001b[1;33m\u001b[0m\u001b[0m\n\u001b[0;32m   2116\u001b[0m                                \u001b[1;34m'an image (with imshow) or a contour set ('\u001b[0m\u001b[1;33m\u001b[0m\u001b[0m\n",
        "\u001b[1;31mRuntimeError\u001b[0m: No mappable was found to use for colorbar creation. First define a mappable such as an image (with imshow) or a contour set (with contourf)."
       ]
      }
     ],
     "prompt_number": 6
    },
    {
     "cell_type": "code",
     "collapsed": false,
     "input": [
      "### End -----------############################"
     ],
     "language": "python",
     "metadata": {},
     "outputs": []
    },
    {
     "cell_type": "code",
     "collapsed": false,
     "input": [
      "ctp1_1 = new( (/2030,1354/),float)\n",
      " do i = 0,2029\n",
      "  do j = 0, 1353\n",
      "    ctp1_1(i,j) = ctt1(2,i,j)\n",
      "  end do\n",
      " end do\n",
      "\n",
      " ctp1_1@Lat2d = Lat2d1\n",
      " ctp1_1@Lon2d = Lon2d1\n",
      "\n",
      "printVarSummary(ctp1_1)\n",
      "\n",
      "ctp2_1 = new( (/2030,1354/),float)\n",
      " do i = 0,2029\n",
      "  do j = 0, 1353\n",
      "    ctp2_1(i,j) = ctt2(2,i,j)\n",
      "  end do\n",
      " end do\n",
      "\n",
      " ctp2_1@Lat2d = Lat2d2\n",
      " ctp2_1@Lon2d = Lon2d2\n",
      "\n",
      " Lat_merged = array_append_record (Lat2d1, Lat2d2, 0)\n",
      " printVarSummary(Lat_merged)\n",
      " Lon_merged = array_append_record (Lon2d1, Lon2d2, 0)\n",
      " printVarSummary(Lon_merged)\n",
      " ctp_merged = array_append_record (ctp1_1, ctp2_1, 0)\n",
      " printVarSummary(ctp_merged)"
     ],
     "language": "python",
     "metadata": {},
     "outputs": [
      {
       "ename": "SyntaxError",
       "evalue": "invalid syntax (<ipython-input-68-a43cd52a4576>, line 1)",
       "output_type": "pyerr",
       "traceback": [
        "\u001b[1;36m  File \u001b[1;32m\"<ipython-input-68-a43cd52a4576>\"\u001b[1;36m, line \u001b[1;32m1\u001b[0m\n\u001b[1;33m    version Basemap\u001b[0m\n\u001b[1;37m                  ^\u001b[0m\n\u001b[1;31mSyntaxError\u001b[0m\u001b[1;31m:\u001b[0m invalid syntax\n"
       ]
      }
     ],
     "prompt_number": 68
    },
    {
     "cell_type": "code",
     "collapsed": false,
     "input": [
      "from mpl_toolkits.basemap import Basemap, cm # To plot data on a map\n",
      "from pyhdf.SD import SD, SDC # To read a HDF file\n",
      "from scipy import interpolate\n",
      "from scipy.interpolate import griddata\n",
      "\n",
      "import numpy as np\n",
      "import matplotlib.pyplot as plt\n",
      "import matplotlib as mpl\n",
      "import sys\n",
      "'''---------- Read HDf files ----------'''\n",
      "\n",
      "#myd03_file_name = sys.argv[1] \n",
      "myd03_file_name =\"MYD02HKM.A2015274.0425.005.2015274161520.hdf\"\n",
      "# Exemple: PlotModisL2CloudPhase.py MYD03.A2008014.0830.006.2012066172615.hdf \n",
      "# MYD06_L2.A2008014.0830.006.2013163030142.hdf\n",
      "myd06_file_name = sys.argv[2]\n",
      "\n",
      "myd03 = SD(myd03_file_name, SDC.READ)\n",
      "myd06 = SD(myd06_file_name, SDC.READ)\n",
      "myd03_Latitude = myd03.select('Latitude')\n",
      "myd03_Longitude = myd03.select('Longitude')\n",
      "myd06_sds = myd06.select('Cloud_Phase_Optical_Properties')\n",
      "myd03_Latitude_data = myd03_Latitude.get()\n",
      "myd03_Longitude_data = myd03_Longitude.get()\n",
      "myd06_sds_data = myd06_sds.get()\n",
      "print \"Read hdf done\"\n",
      "\n",
      "'''---------- Find lat_0 and lon_0 of the MODIS granule ----------'''\n",
      "\n",
      "ArrayShape = myd03_Latitude_data.shape\n",
      "as0 = ArrayShape[0] - 1\n",
      "as1 = ArrayShape[1] - 1\n",
      "#print myd03_Latitude_data.shape\n",
      "#print myd03_Longitude_data.shape\n",
      "latmin = myd03_Latitude_data[0,0]\n",
      "latmax = myd03_Latitude_data[as0,as1]\n",
      "lat_0 = latmin + (latmax - latmin) / 2.\n",
      "#print \"lat_0:\", lat_0\n",
      "\n",
      "'''--------------------------------------------------'''\n",
      "\n",
      "tmp_01 = myd03_Longitude_data[0,0]\n",
      "tmp_02 = myd03_Longitude_data[as0,as1]\n",
      "lonmin = min(myd03_Longitude_data[0,0],myd03_Longitude_data[as0,as1])\n",
      "lonmax = max(myd03_Longitude_data[0,0],myd03_Longitude_data[as0,as1])\n",
      "lon_0 = lonmin + (lonmax - lonmin) / 2.\n",
      "if lon_0 > 180:\n",
      "    lon_0 = - ( 360 - lon_0 )\n",
      "#print \"lon_0:\", lon_0\n",
      "myd03_Longitude_data[0,0] = tmp_01\n",
      "myd03_Longitude_data[as0,as1] = tmp_02\n",
      "#print latmin, latmax\n",
      "#print lonmin, lonmax\n",
      "#print \"lat_0 and lon_0 done\"\n",
      "\n",
      "'''---------- Orthographic Map ----------'''\n",
      "\n",
      "fig = plt.figure()\n",
      "ax = fig.add_subplot(111)\n",
      "ax.patch.set_facecolor('black')\n",
      "m1 = Basemap(projection='ortho',lon_0=lon_0,lat_0=lat_0,resolution=None)\n",
      "xpt0, ypt0 = m1(lon_0,lat_0) \n",
      "#print 'xpt0, ypt0',xpt0, ypt0\n",
      "xpt1, ypt1 = m1(myd03_Longitude_data[0,0],myd03_Latitude_data[0,0]) \n",
      "xpt2, ypt2 = m1(myd03_Longitude_data[0,as1],myd03_Latitude_data[0,as1]) \n",
      "xpt3, ypt3 = m1(myd03_Longitude_data[as0,as1],myd03_Latitude_data[as0,as1])\n",
      "xpt4, ypt4 = m1(myd03_Longitude_data[as0,0],myd03_Latitude_data[as0,0])\n",
      "llx = min(xpt1,xpt2,xpt3,xpt4) - xpt0  # lower left\n",
      "lly = min(ypt1,ypt2,ypt3,ypt4) - ypt0\n",
      "urx = max(xpt1,xpt2,xpt3,xpt4) - xpt0  # upper right\n",
      "ury = max(ypt1,ypt2,ypt3,ypt4) - ypt0\n",
      "m = Basemap(projection='ortho',lon_0=lon_0,lat_0=lat_0,resolution='l',\\\n",
      "    llcrnrx=llx,llcrnry=lly,urcrnrx=urx,urcrnry=ury)\n",
      "print \"Orthographic map done\"\n",
      "\n",
      "'''---------- Plot MODIS data: Using Scipy Griddata ----------'''\n",
      "\n",
      "long = myd03_Longitude.get()\n",
      "lat = myd03_Latitude.get()\n",
      "x_igrid, y_igrid = m(long,lat)\n",
      "x_igrid = x_igrid - xpt0\n",
      "y_igrid = y_igrid - ypt0\n",
      "z_igrid = myd06_sds.get()\n",
      "z_igrid = z_igrid + 0.5 # color base from 0 1 2 3 4 to 0.5 1.5 2.5 3.5 4.5\n",
      "x1_igrid = x_igrid.ravel()\n",
      "y1_igrid = y_igrid.ravel()\n",
      "z1_igrid = z_igrid.ravel()\n",
      "xy1_igrid = np.vstack((x1_igrid, y1_igrid)).T\n",
      "xi, yi = np.mgrid[llx:urx:1000j, lly:ury:1000j]\n",
      "z = griddata(xy1_igrid, z1_igrid, (xi, yi), method='cubic')\n",
      "cmap = plt.cm.gist_earth \n",
      "bounds = [2, 3, 4, 5]\n",
      "norm = mpl.colors.BoundaryNorm(bounds, cmap.N)\n",
      "img = m.imshow(z.T, origin='lower', vmin =2.0, vmax=5.0, cmap=cmap )\n",
      "cbar = m.colorbar(img, cmap=cmap, norm=norm, boundaries=bounds, ticks=[2.5,3.5,4.5])\n",
      "cbar.ax.set_yticklabels([ 'Liquid', 'Ice', 'Undetermined \\n Cloud Phase'], fontsize=10)\n",
      "m.drawcoastlines()\n",
      "m.drawparallels(np.arange(-90.,120.,5.), color='w', labels=[True,False,False,False])\n",
      "m.drawmeridians(np.arange(0.,420.,25.), color='w', labels=[False,False,False,True])\n",
      "ax.set_xlabel(\"\", fontsize=10)\n",
      "ax.set_ylabel(\"\", fontsize=10)       \n",
      "plt.title('MODIS L2 Cloud Phase Discrimination', fontsize=10)\n",
      "plt.savefig(\"ModisCloudPhase.png\", dpi=100 )\n",
      "#plt.show()"
     ],
     "language": "python",
     "metadata": {},
     "outputs": [
      {
       "ename": "HDF4Error",
       "evalue": "SD : cannot open /home/eunmia/.ipython/profile_default/security/kernel-ec5e8b77-10db-4014-af3f-ba5398d431c8.json",
       "output_type": "pyerr",
       "traceback": [
        "\u001b[1;31m---------------------------------------------------------------------------\u001b[0m\n\u001b[1;31mHDF4Error\u001b[0m                                 Traceback (most recent call last)",
        "\u001b[1;32m<ipython-input-20-12e038a36206>\u001b[0m in \u001b[0;36m<module>\u001b[1;34m()\u001b[0m\n\u001b[0;32m     17\u001b[0m \u001b[1;33m\u001b[0m\u001b[0m\n\u001b[0;32m     18\u001b[0m \u001b[0mmyd03\u001b[0m \u001b[1;33m=\u001b[0m \u001b[0mSD\u001b[0m\u001b[1;33m(\u001b[0m\u001b[0mmyd03_file_name\u001b[0m\u001b[1;33m,\u001b[0m \u001b[0mSDC\u001b[0m\u001b[1;33m.\u001b[0m\u001b[0mREAD\u001b[0m\u001b[1;33m)\u001b[0m\u001b[1;33m\u001b[0m\u001b[0m\n\u001b[1;32m---> 19\u001b[1;33m \u001b[0mmyd06\u001b[0m \u001b[1;33m=\u001b[0m \u001b[0mSD\u001b[0m\u001b[1;33m(\u001b[0m\u001b[0mmyd06_file_name\u001b[0m\u001b[1;33m,\u001b[0m \u001b[0mSDC\u001b[0m\u001b[1;33m.\u001b[0m\u001b[0mREAD\u001b[0m\u001b[1;33m)\u001b[0m\u001b[1;33m\u001b[0m\u001b[0m\n\u001b[0m\u001b[0;32m     20\u001b[0m \u001b[0mmyd03_Latitude\u001b[0m \u001b[1;33m=\u001b[0m \u001b[0mmyd03\u001b[0m\u001b[1;33m.\u001b[0m\u001b[0mselect\u001b[0m\u001b[1;33m(\u001b[0m\u001b[1;34m'Latitude'\u001b[0m\u001b[1;33m)\u001b[0m\u001b[1;33m\u001b[0m\u001b[0m\n\u001b[0;32m     21\u001b[0m \u001b[0mmyd03_Longitude\u001b[0m \u001b[1;33m=\u001b[0m \u001b[0mmyd03\u001b[0m\u001b[1;33m.\u001b[0m\u001b[0mselect\u001b[0m\u001b[1;33m(\u001b[0m\u001b[1;34m'Longitude'\u001b[0m\u001b[1;33m)\u001b[0m\u001b[1;33m\u001b[0m\u001b[0m\n",
        "\u001b[1;32m/home/eunmia/Enthought/Canopy_64bit/User/lib/python2.7/site-packages/pyhdf/SD.pyc\u001b[0m in \u001b[0;36m__init__\u001b[1;34m(self, path, mode)\u001b[0m\n\u001b[0;32m   1418\u001b[0m \u001b[1;33m\u001b[0m\u001b[0m\n\u001b[0;32m   1419\u001b[0m         \u001b[0mid\u001b[0m \u001b[1;33m=\u001b[0m \u001b[0m_C\u001b[0m\u001b[1;33m.\u001b[0m\u001b[0mSDstart\u001b[0m\u001b[1;33m(\u001b[0m\u001b[0mpath\u001b[0m\u001b[1;33m,\u001b[0m \u001b[0mmode\u001b[0m\u001b[1;33m)\u001b[0m\u001b[1;33m\u001b[0m\u001b[0m\n\u001b[1;32m-> 1420\u001b[1;33m         \u001b[0m_checkErr\u001b[0m\u001b[1;33m(\u001b[0m\u001b[1;34m'SD'\u001b[0m\u001b[1;33m,\u001b[0m \u001b[0mid\u001b[0m\u001b[1;33m,\u001b[0m \u001b[1;34m\"cannot open %s\"\u001b[0m \u001b[1;33m%\u001b[0m \u001b[0mpath\u001b[0m\u001b[1;33m)\u001b[0m\u001b[1;33m\u001b[0m\u001b[0m\n\u001b[0m\u001b[0;32m   1421\u001b[0m         \u001b[0mself\u001b[0m\u001b[1;33m.\u001b[0m\u001b[0m_id\u001b[0m \u001b[1;33m=\u001b[0m \u001b[0mid\u001b[0m\u001b[1;33m\u001b[0m\u001b[0m\n\u001b[0;32m   1422\u001b[0m \u001b[1;33m\u001b[0m\u001b[0m\n",
        "\u001b[1;32m/home/eunmia/Enthought/Canopy_64bit/User/lib/python2.7/site-packages/pyhdf/error.pyc\u001b[0m in \u001b[0;36m_checkErr\u001b[1;34m(procName, val, msg)\u001b[0m\n\u001b[0;32m     21\u001b[0m         \u001b[1;32melse\u001b[0m\u001b[1;33m:\u001b[0m\u001b[1;33m\u001b[0m\u001b[0m\n\u001b[0;32m     22\u001b[0m             \u001b[0mstr\u001b[0m \u001b[1;33m=\u001b[0m \u001b[1;34m\"%s : %s\"\u001b[0m \u001b[1;33m%\u001b[0m \u001b[1;33m(\u001b[0m\u001b[0mprocName\u001b[0m\u001b[1;33m,\u001b[0m \u001b[0mmsg\u001b[0m\u001b[1;33m)\u001b[0m\u001b[1;33m\u001b[0m\u001b[0m\n\u001b[1;32m---> 23\u001b[1;33m         \u001b[1;32mraise\u001b[0m \u001b[0mHDF4Error\u001b[0m\u001b[1;33m,\u001b[0m \u001b[0mstr\u001b[0m\u001b[1;33m\u001b[0m\u001b[0m\n\u001b[0m\u001b[0;32m     24\u001b[0m \u001b[1;33m\u001b[0m\u001b[0m\n",
        "\u001b[1;31mHDF4Error\u001b[0m: SD : cannot open /home/eunmia/.ipython/profile_default/security/kernel-ec5e8b77-10db-4014-af3f-ba5398d431c8.json"
       ]
      }
     ],
     "prompt_number": 20
    },
    {
     "cell_type": "code",
     "collapsed": false,
     "input": [],
     "language": "python",
     "metadata": {},
     "outputs": []
    }
   ],
   "metadata": {}
  }
 ]
}